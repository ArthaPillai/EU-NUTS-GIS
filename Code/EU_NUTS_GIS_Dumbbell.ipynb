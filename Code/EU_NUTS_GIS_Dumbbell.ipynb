{
 "cells": [
  {
   "cell_type": "code",
   "execution_count": 1,
   "id": "41f4b284",
   "metadata": {},
   "outputs": [],
   "source": [
    "import pandas as pd\n",
    "import plotly.express as px\n",
    "import json\n",
    "import plotly.graph_objects as go\n",
    "import geopandas as gpd\n",
    "\n",
    "\n",
    "data = pd.read_stata('C:/Users/apillai/OneDrive - World Justice Project/Documents/GitHub/EU-NUTS-GIS/Data/TrialData.dta')\n",
    "\n",
    "recode_values = {\n",
    "    'A lot': 1, 'Some': 1,\n",
    "    'A little': 0, 'No trust': 0, 'Don\\'t know': 0, 'No answer': 0\n",
    "}\n",
    "\n",
    "for column in ['TRT_police', 'TRT_prosecutors', 'TRT_pda', 'TRT_judges']:\n",
    "    data[column] = data[column].map(recode_values)\n",
    "\n",
    "long_format = data.melt(id_vars=['nuts_id','country_name_ltn', 'nuts_ltn'], value_vars=['TRT_police', 'TRT_prosecutors', 'TRT_pda', 'TRT_judges'],\n",
    "                        var_name='Variable', value_name='Value')\n",
    "\n",
    "long_format_clean = long_format[long_format['nuts_id'].notnull() & (long_format['nuts_id'].str.strip() != '')]\n",
    "\n",
    "percentage_trust = long_format_clean.groupby(['nuts_id', 'Variable','country_name_ltn', 'nuts_ltn'])['Value'].mean() * 100\n",
    "percentage_trust_df = percentage_trust.reset_index()\n",
    "percentage_trust_df.rename(columns={'Value': 'Percentage'}, inplace=True)\n",
    "\n",
    "def categorize_percentage(value):\n",
    "    if value <= 10:\n",
    "        return \"0%-10%\"\n",
    "    elif 10 < value <= 25:\n",
    "        return \"10%-25%\"\n",
    "    elif 25 < value <= 50:\n",
    "        return \"25%-50%\"\n",
    "    elif 50 < value <= 75:\n",
    "        return \"50%-75%\"\n",
    "    elif 75 < value <= 90:\n",
    "        return \"75%-90%\"\n",
    "    else:\n",
    "        return \"90%-100%\"\n",
    "\n",
    "\n",
    "percentage_trust_df['cat4map'] = percentage_trust_df['Percentage'].apply(categorize_percentage)\n",
    "\n",
    "\n",
    "gdf = gpd.read_file(\"C:/Users/apillai/OneDrive - World Justice Project/Documents/GitHub/EU-NUTS-GIS/Data/EU_base_map.geojson\")\n",
    "\n",
    "\n",
    "data4map = percentage_trust_df.merge(gdf, how='left', left_on='nuts_id', right_on='polID') \n",
    "\n"
   ]
  },
  {
   "cell_type": "code",
   "execution_count": 3,
   "id": "f8d4609e",
   "metadata": {},
   "outputs": [],
   "source": [
    "\n",
    "# from dash import Dash, dcc, html\n",
    "# from base64 import b64encode\n",
    "# import io\n",
    "\n",
    "# buffer = io.StringIO()\n",
    "# html_bytes = buffer.getvalue().encode()\n",
    "# encoded = b64encode(html_bytes).decode()\n",
    "\n",
    "# app = Dash()\n",
    "# app.layout = html.Div([\n",
    "#     dcc.Graph(figure=fig),\n",
    "#     html.A(\n",
    "#         html.Button(\"Download as HTML\"), \n",
    "#         id=\"download\",\n",
    "#         href=\"data:text/html;base64,\" + encoded,\n",
    "#         download=\"plotly_graph.html\"\n",
    "#     )\n",
    "# ])\n",
    "\n",
    "# app.run_server(debug=True, use_reloader=False)  "
   ]
  },
  {
   "cell_type": "markdown",
   "id": "20ec902f",
   "metadata": {},
   "source": [
    "Original Dumbell"
   ]
  },
  {
   "cell_type": "code",
   "execution_count": 8,
   "id": "a4bc2383",
   "metadata": {},
   "outputs": [],
   "source": [
    "# import plotly.graph_objects as go\n",
    "\n",
    "\n",
    "# fig = go.Figure()\n",
    "\n",
    "\n",
    "# countries = data4map['country_name_ltn'].unique()\n",
    "# variables = data4map['Variable'].unique()\n",
    "\n",
    "# color_sequence = px.colors.qualitative.Set1  \n",
    "\n",
    "# country_colors = {country: color_sequence[i % len(color_sequence)] for i, country in enumerate(countries)}\n",
    "\n",
    "# for country in countries:\n",
    "#     for variable in variables:\n",
    "        \n",
    "#         filtered_data = data4map[(data4map['country_name_ltn'] == country) & \n",
    "#                                  (data4map['Variable'] == variable)]\n",
    "#         fig.add_trace(go.Scatter(\n",
    "#             x=filtered_data['Percentage'],\n",
    "#             y=[country] * len(filtered_data),  \n",
    "#             mode='lines+markers',\n",
    "#             name=country,\n",
    "#             legendgroup=country,  \n",
    "#             visible=(variable == variables[0]),  \n",
    "#             line=dict(color=country_colors[country]),\n",
    "            \n",
    "#         ))\n",
    "\n",
    "\n",
    "# buttons = []\n",
    "# for variable in variables:\n",
    "\n",
    "#     visibility = [(data4map['Variable'] == variable).values.tolist()]\n",
    "\n",
    "#     visibility = [item for sublist in visibility for item in sublist]\n",
    "\n",
    "#     buttons.append(\n",
    "#         dict(\n",
    "#             label=variable,\n",
    "#             method='update',\n",
    "#             args=[{'visible': visibility},\n",
    "#                   {'title': f'Dumbbell Chart for {variable}'}]\n",
    "#         )\n",
    "#     )\n",
    "\n",
    "\n",
    "# fig.update_layout(\n",
    "#     updatemenus=[{\n",
    "#         'buttons': buttons,\n",
    "#         'direction': 'down',\n",
    "#         'showactive': True,\n",
    "#         'x': 0.1,\n",
    "#         'xanchor': 'left',\n",
    "#         'y': 1.15,\n",
    "#         'yanchor': 'top'\n",
    "#     }],\n",
    "#     title=f'Dumbbell Chart for {variables[0]}',\n",
    "#     xaxis=dict(title='Percentage'),\n",
    "#     yaxis=dict(title='Country'),\n",
    "#     legend=dict(title='Country', traceorder='normal')\n",
    "# )\n",
    "\n",
    "\n",
    "# fig.show()\n",
    "\n",
    "# fig.write_html('C:/Users/apillai/OneDrive - World Justice Project/Documents/GitHub/EU-NUTS-GIS/Data/ColorDumbbell2.html')"
   ]
  },
  {
   "cell_type": "code",
   "execution_count": null,
   "id": "861d57de",
   "metadata": {},
   "outputs": [],
   "source": []
  },
  {
   "cell_type": "code",
   "execution_count": 36,
   "id": "086e537b",
   "metadata": {},
   "outputs": [
    {
     "data": {
      "application/vnd.plotly.v1+json": {
       "config": {
        "plotlyServerURL": "https://plot.ly"
       },
       "data": [
        {
         "legendgroup": "Austria",
         "line": {
          "color": "rgb(228,26,28)"
         },
         "mode": "lines+markers",
         "name": "Austria",
         "type": "scatter",
         "visible": true,
         "x": [
          67.56756756756756,
          62.5,
          60
         ],
         "y": [
          "Austria",
          "Austria",
          "Austria"
         ]
        },
        {
         "legendgroup": "Austria",
         "line": {
          "color": "rgb(228,26,28)"
         },
         "mode": "lines+markers",
         "name": "Austria",
         "type": "scatter",
         "visible": false,
         "x": [
          56.75675675675676,
          62.5,
          55.00000000000001
         ],
         "y": [
          "Austria",
          "Austria",
          "Austria"
         ]
        },
        {
         "legendgroup": "Austria",
         "line": {
          "color": "rgb(228,26,28)"
         },
         "mode": "lines+markers",
         "name": "Austria",
         "type": "scatter",
         "visible": false,
         "x": [
          67.56756756756756,
          87.5,
          70
         ],
         "y": [
          "Austria",
          "Austria",
          "Austria"
         ]
        },
        {
         "legendgroup": "Austria",
         "line": {
          "color": "rgb(228,26,28)"
         },
         "mode": "lines+markers",
         "name": "Austria",
         "type": "scatter",
         "visible": false,
         "x": [
          62.16216216216216,
          75,
          60
         ],
         "y": [
          "Austria",
          "Austria",
          "Austria"
         ]
        },
        {
         "legendgroup": "Belgium",
         "line": {
          "color": "rgb(55,126,184)"
         },
         "mode": "lines+markers",
         "name": "Belgium",
         "type": "scatter",
         "visible": true,
         "x": [
          25,
          51.06382978723404,
          46.666666666666664
         ],
         "y": [
          "Belgium",
          "Belgium",
          "Belgium"
         ]
        },
        {
         "legendgroup": "Belgium",
         "line": {
          "color": "rgb(55,126,184)"
         },
         "mode": "lines+markers",
         "name": "Belgium",
         "type": "scatter",
         "visible": false,
         "x": [
          50,
          25.53191489361702,
          26.666666666666668
         ],
         "y": [
          "Belgium",
          "Belgium",
          "Belgium"
         ]
        },
        {
         "legendgroup": "Belgium",
         "line": {
          "color": "rgb(55,126,184)"
         },
         "mode": "lines+markers",
         "name": "Belgium",
         "type": "scatter",
         "visible": false,
         "x": [
          25,
          61.702127659574465,
          66.66666666666666
         ],
         "y": [
          "Belgium",
          "Belgium",
          "Belgium"
         ]
        },
        {
         "legendgroup": "Belgium",
         "line": {
          "color": "rgb(55,126,184)"
         },
         "mode": "lines+markers",
         "name": "Belgium",
         "type": "scatter",
         "visible": false,
         "x": [
          50,
          38.297872340425535,
          53.333333333333336
         ],
         "y": [
          "Belgium",
          "Belgium",
          "Belgium"
         ]
        },
        {
         "legendgroup": "Bulgaria",
         "line": {
          "color": "rgb(77,175,74)"
         },
         "mode": "lines+markers",
         "name": "Bulgaria",
         "type": "scatter",
         "visible": true,
         "x": [
          25,
          0
         ],
         "y": [
          "Bulgaria",
          "Bulgaria"
         ]
        },
        {
         "legendgroup": "Bulgaria",
         "line": {
          "color": "rgb(77,175,74)"
         },
         "mode": "lines+markers",
         "name": "Bulgaria",
         "type": "scatter",
         "visible": false,
         "x": [
          25,
          20
         ],
         "y": [
          "Bulgaria",
          "Bulgaria"
         ]
        },
        {
         "legendgroup": "Bulgaria",
         "line": {
          "color": "rgb(77,175,74)"
         },
         "mode": "lines+markers",
         "name": "Bulgaria",
         "type": "scatter",
         "visible": false,
         "x": [
          57.49999999999999,
          40
         ],
         "y": [
          "Bulgaria",
          "Bulgaria"
         ]
        },
        {
         "legendgroup": "Bulgaria",
         "line": {
          "color": "rgb(77,175,74)"
         },
         "mode": "lines+markers",
         "name": "Bulgaria",
         "type": "scatter",
         "visible": false,
         "x": [
          35,
          10
         ],
         "y": [
          "Bulgaria",
          "Bulgaria"
         ]
        },
        {
         "legendgroup": "Cyprus",
         "line": {
          "color": "rgb(152,78,163)"
         },
         "mode": "lines+markers",
         "name": "Cyprus",
         "type": "scatter",
         "visible": true,
         "x": [
          22
         ],
         "y": [
          "Cyprus"
         ]
        },
        {
         "legendgroup": "Cyprus",
         "line": {
          "color": "rgb(152,78,163)"
         },
         "mode": "lines+markers",
         "name": "Cyprus",
         "type": "scatter",
         "visible": false,
         "x": [
          20
         ],
         "y": [
          "Cyprus"
         ]
        },
        {
         "legendgroup": "Cyprus",
         "line": {
          "color": "rgb(152,78,163)"
         },
         "mode": "lines+markers",
         "name": "Cyprus",
         "type": "scatter",
         "visible": false,
         "x": [
          28.000000000000004
         ],
         "y": [
          "Cyprus"
         ]
        },
        {
         "legendgroup": "Cyprus",
         "line": {
          "color": "rgb(152,78,163)"
         },
         "mode": "lines+markers",
         "name": "Cyprus",
         "type": "scatter",
         "visible": false,
         "x": [
          22
         ],
         "y": [
          "Cyprus"
         ]
        },
        {
         "legendgroup": "Czechia",
         "line": {
          "color": "rgb(255,127,0)"
         },
         "mode": "lines+markers",
         "name": "Czechia",
         "type": "scatter",
         "visible": true,
         "x": [
          20,
          50,
          57.14285714285714,
          22.22222222222222,
          83.33333333333334,
          87.5,
          50,
          100
         ],
         "y": [
          "Czechia",
          "Czechia",
          "Czechia",
          "Czechia",
          "Czechia",
          "Czechia",
          "Czechia",
          "Czechia"
         ]
        },
        {
         "legendgroup": "Czechia",
         "line": {
          "color": "rgb(255,127,0)"
         },
         "mode": "lines+markers",
         "name": "Czechia",
         "type": "scatter",
         "visible": false,
         "x": [
          60,
          50,
          28.57142857142857,
          22.22222222222222,
          66.66666666666666,
          62.5,
          20,
          100
         ],
         "y": [
          "Czechia",
          "Czechia",
          "Czechia",
          "Czechia",
          "Czechia",
          "Czechia",
          "Czechia",
          "Czechia"
         ]
        },
        {
         "legendgroup": "Czechia",
         "line": {
          "color": "rgb(255,127,0)"
         },
         "mode": "lines+markers",
         "name": "Czechia",
         "type": "scatter",
         "visible": false,
         "x": [
          100,
          100,
          57.14285714285714,
          44.44444444444444,
          66.66666666666666,
          87.5,
          60,
          100
         ],
         "y": [
          "Czechia",
          "Czechia",
          "Czechia",
          "Czechia",
          "Czechia",
          "Czechia",
          "Czechia",
          "Czechia"
         ]
        },
        {
         "legendgroup": "Czechia",
         "line": {
          "color": "rgb(255,127,0)"
         },
         "mode": "lines+markers",
         "name": "Czechia",
         "type": "scatter",
         "visible": false,
         "x": [
          60,
          50,
          57.14285714285714,
          33.33333333333333,
          50,
          87.5,
          30,
          100
         ],
         "y": [
          "Czechia",
          "Czechia",
          "Czechia",
          "Czechia",
          "Czechia",
          "Czechia",
          "Czechia",
          "Czechia"
         ]
        },
        {
         "legendgroup": "Germany",
         "line": {
          "color": "rgb(255,255,51)"
         },
         "mode": "lines+markers",
         "name": "Germany",
         "type": "scatter",
         "visible": true,
         "x": [
          66.66666666666666,
          55.55555555555556,
          66.66666666666666,
          50,
          0,
          75,
          55.55555555555556,
          44.44444444444444,
          76.47058823529412,
          100,
          85.71428571428571,
          66.66666666666666,
          66.66666666666666,
          100
         ],
         "y": [
          "Germany",
          "Germany",
          "Germany",
          "Germany",
          "Germany",
          "Germany",
          "Germany",
          "Germany",
          "Germany",
          "Germany",
          "Germany",
          "Germany",
          "Germany",
          "Germany"
         ]
        },
        {
         "legendgroup": "Germany",
         "line": {
          "color": "rgb(255,255,51)"
         },
         "mode": "lines+markers",
         "name": "Germany",
         "type": "scatter",
         "visible": false,
         "x": [
          66.66666666666666,
          44.44444444444444,
          33.33333333333333,
          100,
          100,
          25,
          66.66666666666666,
          66.66666666666666,
          29.411764705882355,
          75,
          85.71428571428571,
          0,
          66.66666666666666,
          100
         ],
         "y": [
          "Germany",
          "Germany",
          "Germany",
          "Germany",
          "Germany",
          "Germany",
          "Germany",
          "Germany",
          "Germany",
          "Germany",
          "Germany",
          "Germany",
          "Germany",
          "Germany"
         ]
        },
        {
         "legendgroup": "Germany",
         "line": {
          "color": "rgb(255,255,51)"
         },
         "mode": "lines+markers",
         "name": "Germany",
         "type": "scatter",
         "visible": false,
         "x": [
          66.66666666666666,
          55.55555555555556,
          66.66666666666666,
          50,
          100,
          100,
          66.66666666666666,
          55.55555555555556,
          70.58823529411765,
          100,
          85.71428571428571,
          33.33333333333333,
          100,
          100
         ],
         "y": [
          "Germany",
          "Germany",
          "Germany",
          "Germany",
          "Germany",
          "Germany",
          "Germany",
          "Germany",
          "Germany",
          "Germany",
          "Germany",
          "Germany",
          "Germany",
          "Germany"
         ]
        },
        {
         "legendgroup": "Germany",
         "line": {
          "color": "rgb(255,255,51)"
         },
         "mode": "lines+markers",
         "name": "Germany",
         "type": "scatter",
         "visible": false,
         "x": [
          66.66666666666666,
          44.44444444444444,
          66.66666666666666,
          50,
          0,
          75,
          77.77777777777779,
          66.66666666666666,
          58.82352941176471,
          75,
          85.71428571428571,
          33.33333333333333,
          100,
          100
         ],
         "y": [
          "Germany",
          "Germany",
          "Germany",
          "Germany",
          "Germany",
          "Germany",
          "Germany",
          "Germany",
          "Germany",
          "Germany",
          "Germany",
          "Germany",
          "Germany",
          "Germany"
         ]
        },
        {
         "legendgroup": "Denmark",
         "line": {
          "color": "rgb(166,86,40)"
         },
         "mode": "lines+markers",
         "name": "Denmark",
         "type": "scatter",
         "visible": true,
         "x": [
          72.22222222222221,
          85.71428571428571,
          76.47058823529412,
          80,
          100
         ],
         "y": [
          "Denmark",
          "Denmark",
          "Denmark",
          "Denmark",
          "Denmark"
         ]
        },
        {
         "legendgroup": "Denmark",
         "line": {
          "color": "rgb(166,86,40)"
         },
         "mode": "lines+markers",
         "name": "Denmark",
         "type": "scatter",
         "visible": false,
         "x": [
          61.111111111111114,
          71.42857142857143,
          64.70588235294117,
          73.33333333333333,
          83.33333333333334
         ],
         "y": [
          "Denmark",
          "Denmark",
          "Denmark",
          "Denmark",
          "Denmark"
         ]
        },
        {
         "legendgroup": "Denmark",
         "line": {
          "color": "rgb(166,86,40)"
         },
         "mode": "lines+markers",
         "name": "Denmark",
         "type": "scatter",
         "visible": false,
         "x": [
          77.77777777777779,
          71.42857142857143,
          76.47058823529412,
          93.33333333333333,
          83.33333333333334
         ],
         "y": [
          "Denmark",
          "Denmark",
          "Denmark",
          "Denmark",
          "Denmark"
         ]
        },
        {
         "legendgroup": "Denmark",
         "line": {
          "color": "rgb(166,86,40)"
         },
         "mode": "lines+markers",
         "name": "Denmark",
         "type": "scatter",
         "visible": false,
         "x": [
          66.66666666666666,
          71.42857142857143,
          64.70588235294117,
          86.66666666666667,
          83.33333333333334
         ],
         "y": [
          "Denmark",
          "Denmark",
          "Denmark",
          "Denmark",
          "Denmark"
         ]
        },
        {
         "legendgroup": "Estonia",
         "line": {
          "color": "rgb(247,129,191)"
         },
         "mode": "lines+markers",
         "name": "Estonia",
         "type": "scatter",
         "visible": true,
         "x": [
          60.37735849056604
         ],
         "y": [
          "Estonia"
         ]
        },
        {
         "legendgroup": "Estonia",
         "line": {
          "color": "rgb(247,129,191)"
         },
         "mode": "lines+markers",
         "name": "Estonia",
         "type": "scatter",
         "visible": false,
         "x": [
          64.15094339622641
         ],
         "y": [
          "Estonia"
         ]
        },
        {
         "legendgroup": "Estonia",
         "line": {
          "color": "rgb(247,129,191)"
         },
         "mode": "lines+markers",
         "name": "Estonia",
         "type": "scatter",
         "visible": false,
         "x": [
          83.01886792452831
         ],
         "y": [
          "Estonia"
         ]
        },
        {
         "legendgroup": "Estonia",
         "line": {
          "color": "rgb(247,129,191)"
         },
         "mode": "lines+markers",
         "name": "Estonia",
         "type": "scatter",
         "visible": false,
         "x": [
          64.15094339622641
         ],
         "y": [
          "Estonia"
         ]
        },
        {
         "legendgroup": "Greece",
         "line": {
          "color": "rgb(153,153,153)"
         },
         "mode": "lines+markers",
         "name": "Greece",
         "type": "scatter",
         "visible": true,
         "x": [
          60,
          6.666666666666667,
          0,
          26.666666666666668
         ],
         "y": [
          "Greece",
          "Greece",
          "Greece",
          "Greece"
         ]
        },
        {
         "legendgroup": "Greece",
         "line": {
          "color": "rgb(153,153,153)"
         },
         "mode": "lines+markers",
         "name": "Greece",
         "type": "scatter",
         "visible": false,
         "x": [
          30,
          6.666666666666667,
          10,
          33.33333333333333
         ],
         "y": [
          "Greece",
          "Greece",
          "Greece",
          "Greece"
         ]
        },
        {
         "legendgroup": "Greece",
         "line": {
          "color": "rgb(153,153,153)"
         },
         "mode": "lines+markers",
         "name": "Greece",
         "type": "scatter",
         "visible": false,
         "x": [
          30,
          26.666666666666668,
          20,
          33.33333333333333
         ],
         "y": [
          "Greece",
          "Greece",
          "Greece",
          "Greece"
         ]
        },
        {
         "legendgroup": "Greece",
         "line": {
          "color": "rgb(153,153,153)"
         },
         "mode": "lines+markers",
         "name": "Greece",
         "type": "scatter",
         "visible": false,
         "x": [
          50,
          6.666666666666667,
          0,
          13.333333333333334
         ],
         "y": [
          "Greece",
          "Greece",
          "Greece",
          "Greece"
         ]
        },
        {
         "legendgroup": "Spain",
         "line": {
          "color": "rgb(228,26,28)"
         },
         "mode": "lines+markers",
         "name": "Spain",
         "type": "scatter",
         "visible": true,
         "x": [
          33.33333333333333,
          28.57142857142857,
          71.42857142857143,
          54.54545454545454,
          50,
          33.33333333333333
         ],
         "y": [
          "Spain",
          "Spain",
          "Spain",
          "Spain",
          "Spain",
          "Spain"
         ]
        },
        {
         "legendgroup": "Spain",
         "line": {
          "color": "rgb(228,26,28)"
         },
         "mode": "lines+markers",
         "name": "Spain",
         "type": "scatter",
         "visible": false,
         "x": [
          50,
          42.857142857142854,
          71.42857142857143,
          63.63636363636363,
          50,
          66.66666666666666
         ],
         "y": [
          "Spain",
          "Spain",
          "Spain",
          "Spain",
          "Spain",
          "Spain"
         ]
        },
        {
         "legendgroup": "Spain",
         "line": {
          "color": "rgb(228,26,28)"
         },
         "mode": "lines+markers",
         "name": "Spain",
         "type": "scatter",
         "visible": false,
         "x": [
          66.66666666666666,
          71.42857142857143,
          85.71428571428571,
          72.72727272727273,
          62.5,
          83.33333333333334
         ],
         "y": [
          "Spain",
          "Spain",
          "Spain",
          "Spain",
          "Spain",
          "Spain"
         ]
        },
        {
         "legendgroup": "Spain",
         "line": {
          "color": "rgb(228,26,28)"
         },
         "mode": "lines+markers",
         "name": "Spain",
         "type": "scatter",
         "visible": false,
         "x": [
          50,
          42.857142857142854,
          57.14285714285714,
          36.36363636363637,
          50,
          66.66666666666666
         ],
         "y": [
          "Spain",
          "Spain",
          "Spain",
          "Spain",
          "Spain",
          "Spain"
         ]
        },
        {
         "legendgroup": "Finland",
         "line": {
          "color": "rgb(55,126,184)"
         },
         "mode": "lines+markers",
         "name": "Finland",
         "type": "scatter",
         "visible": true,
         "x": [
          76.92307692307693,
          76.47058823529412,
          88.88888888888889,
          84.61538461538461
         ],
         "y": [
          "Finland",
          "Finland",
          "Finland",
          "Finland"
         ]
        },
        {
         "legendgroup": "Finland",
         "line": {
          "color": "rgb(55,126,184)"
         },
         "mode": "lines+markers",
         "name": "Finland",
         "type": "scatter",
         "visible": false,
         "x": [
          69.23076923076923,
          82.35294117647058,
          77.77777777777779,
          53.84615384615385
         ],
         "y": [
          "Finland",
          "Finland",
          "Finland",
          "Finland"
         ]
        },
        {
         "legendgroup": "Finland",
         "line": {
          "color": "rgb(55,126,184)"
         },
         "mode": "lines+markers",
         "name": "Finland",
         "type": "scatter",
         "visible": false,
         "x": [
          84.61538461538461,
          88.23529411764706,
          88.88888888888889,
          92.3076923076923
         ],
         "y": [
          "Finland",
          "Finland",
          "Finland",
          "Finland"
         ]
        },
        {
         "legendgroup": "Finland",
         "line": {
          "color": "rgb(55,126,184)"
         },
         "mode": "lines+markers",
         "name": "Finland",
         "type": "scatter",
         "visible": false,
         "x": [
          84.61538461538461,
          88.23529411764706,
          88.88888888888889,
          76.92307692307693
         ],
         "y": [
          "Finland",
          "Finland",
          "Finland",
          "Finland"
         ]
        },
        {
         "legendgroup": "France",
         "line": {
          "color": "rgb(77,175,74)"
         },
         "mode": "lines+markers",
         "name": "France",
         "type": "scatter",
         "visible": true,
         "x": [
          37.5,
          50,
          100,
          50,
          0,
          20,
          50,
          50,
          75,
          66.66666666666666,
          50,
          50,
          100
         ],
         "y": [
          "France",
          "France",
          "France",
          "France",
          "France",
          "France",
          "France",
          "France",
          "France",
          "France",
          "France",
          "France",
          "France"
         ]
        },
        {
         "legendgroup": "France",
         "line": {
          "color": "rgb(77,175,74)"
         },
         "mode": "lines+markers",
         "name": "France",
         "type": "scatter",
         "visible": false,
         "x": [
          37.5,
          50,
          100,
          50,
          25,
          20,
          25,
          50,
          50,
          66.66666666666666,
          50,
          50,
          100
         ],
         "y": [
          "France",
          "France",
          "France",
          "France",
          "France",
          "France",
          "France",
          "France",
          "France",
          "France",
          "France",
          "France",
          "France"
         ]
        },
        {
         "legendgroup": "France",
         "line": {
          "color": "rgb(77,175,74)"
         },
         "mode": "lines+markers",
         "name": "France",
         "type": "scatter",
         "visible": false,
         "x": [
          50,
          75,
          100,
          50,
          25,
          20,
          75,
          50,
          75,
          100,
          50,
          50,
          0
         ],
         "y": [
          "France",
          "France",
          "France",
          "France",
          "France",
          "France",
          "France",
          "France",
          "France",
          "France",
          "France",
          "France",
          "France"
         ]
        },
        {
         "legendgroup": "France",
         "line": {
          "color": "rgb(77,175,74)"
         },
         "mode": "lines+markers",
         "name": "France",
         "type": "scatter",
         "visible": false,
         "x": [
          37.5,
          75,
          100,
          75,
          50,
          20,
          50,
          25,
          75,
          66.66666666666666,
          75,
          50,
          0
         ],
         "y": [
          "France",
          "France",
          "France",
          "France",
          "France",
          "France",
          "France",
          "France",
          "France",
          "France",
          "France",
          "France",
          "France"
         ]
        },
        {
         "legendgroup": "Croatia",
         "line": {
          "color": "rgb(152,78,163)"
         },
         "mode": "lines+markers",
         "name": "Croatia",
         "type": "scatter",
         "visible": true,
         "x": [
          50,
          43.75,
          35.714285714285715,
          33.33333333333333
         ],
         "y": [
          "Croatia",
          "Croatia",
          "Croatia",
          "Croatia"
         ]
        },
        {
         "legendgroup": "Croatia",
         "line": {
          "color": "rgb(152,78,163)"
         },
         "mode": "lines+markers",
         "name": "Croatia",
         "type": "scatter",
         "visible": false,
         "x": [
          64.28571428571429,
          43.75,
          50,
          16.666666666666664
         ],
         "y": [
          "Croatia",
          "Croatia",
          "Croatia",
          "Croatia"
         ]
        },
        {
         "legendgroup": "Croatia",
         "line": {
          "color": "rgb(152,78,163)"
         },
         "mode": "lines+markers",
         "name": "Croatia",
         "type": "scatter",
         "visible": false,
         "x": [
          85.71428571428571,
          62.5,
          92.85714285714286,
          50
         ],
         "y": [
          "Croatia",
          "Croatia",
          "Croatia",
          "Croatia"
         ]
        },
        {
         "legendgroup": "Croatia",
         "line": {
          "color": "rgb(152,78,163)"
         },
         "mode": "lines+markers",
         "name": "Croatia",
         "type": "scatter",
         "visible": false,
         "x": [
          50,
          43.75,
          42.857142857142854,
          16.666666666666664
         ],
         "y": [
          "Croatia",
          "Croatia",
          "Croatia",
          "Croatia"
         ]
        },
        {
         "legendgroup": "Hungary",
         "line": {
          "color": "rgb(255,127,0)"
         },
         "mode": "lines+markers",
         "name": "Hungary",
         "type": "scatter",
         "visible": true,
         "x": [
          32.758620689655174,
          11.11111111111111,
          43.75
         ],
         "y": [
          "Hungary",
          "Hungary",
          "Hungary"
         ]
        },
        {
         "legendgroup": "Hungary",
         "line": {
          "color": "rgb(255,127,0)"
         },
         "mode": "lines+markers",
         "name": "Hungary",
         "type": "scatter",
         "visible": false,
         "x": [
          25.862068965517242,
          11.11111111111111,
          43.75
         ],
         "y": [
          "Hungary",
          "Hungary",
          "Hungary"
         ]
        },
        {
         "legendgroup": "Hungary",
         "line": {
          "color": "rgb(255,127,0)"
         },
         "mode": "lines+markers",
         "name": "Hungary",
         "type": "scatter",
         "visible": false,
         "x": [
          48.275862068965516,
          11.11111111111111,
          31.25
         ],
         "y": [
          "Hungary",
          "Hungary",
          "Hungary"
         ]
        },
        {
         "legendgroup": "Hungary",
         "line": {
          "color": "rgb(255,127,0)"
         },
         "mode": "lines+markers",
         "name": "Hungary",
         "type": "scatter",
         "visible": false,
         "x": [
          39.6551724137931,
          22.22222222222222,
          50
         ],
         "y": [
          "Hungary",
          "Hungary",
          "Hungary"
         ]
        },
        {
         "legendgroup": "Italy",
         "line": {
          "color": "rgb(255,255,51)"
         },
         "mode": "lines+markers",
         "name": "Italy",
         "type": "scatter",
         "visible": true,
         "x": [
          38.095238095238095,
          54.54545454545454,
          42.857142857142854,
          50,
          62.5
         ],
         "y": [
          "Italy",
          "Italy",
          "Italy",
          "Italy",
          "Italy"
         ]
        },
        {
         "legendgroup": "Italy",
         "line": {
          "color": "rgb(255,255,51)"
         },
         "mode": "lines+markers",
         "name": "Italy",
         "type": "scatter",
         "visible": false,
         "x": [
          66.66666666666666,
          36.36363636363637,
          35.714285714285715,
          40,
          62.5
         ],
         "y": [
          "Italy",
          "Italy",
          "Italy",
          "Italy",
          "Italy"
         ]
        },
        {
         "legendgroup": "Italy",
         "line": {
          "color": "rgb(255,255,51)"
         },
         "mode": "lines+markers",
         "name": "Italy",
         "type": "scatter",
         "visible": false,
         "x": [
          71.42857142857143,
          72.72727272727273,
          50,
          70,
          75
         ],
         "y": [
          "Italy",
          "Italy",
          "Italy",
          "Italy",
          "Italy"
         ]
        },
        {
         "legendgroup": "Italy",
         "line": {
          "color": "rgb(255,255,51)"
         },
         "mode": "lines+markers",
         "name": "Italy",
         "type": "scatter",
         "visible": false,
         "x": [
          42.857142857142854,
          45.45454545454545,
          64.28571428571429,
          20,
          75
         ],
         "y": [
          "Italy",
          "Italy",
          "Italy",
          "Italy",
          "Italy"
         ]
        },
        {
         "legendgroup": "Lithuania",
         "line": {
          "color": "rgb(166,86,40)"
         },
         "mode": "lines+markers",
         "name": "Lithuania",
         "type": "scatter",
         "visible": true,
         "x": [
          5.555555555555555,
          46.875
         ],
         "y": [
          "Lithuania",
          "Lithuania"
         ]
        },
        {
         "legendgroup": "Lithuania",
         "line": {
          "color": "rgb(166,86,40)"
         },
         "mode": "lines+markers",
         "name": "Lithuania",
         "type": "scatter",
         "visible": false,
         "x": [
          27.77777777777778,
          34.375
         ],
         "y": [
          "Lithuania",
          "Lithuania"
         ]
        },
        {
         "legendgroup": "Lithuania",
         "line": {
          "color": "rgb(166,86,40)"
         },
         "mode": "lines+markers",
         "name": "Lithuania",
         "type": "scatter",
         "visible": false,
         "x": [
          66.66666666666666,
          68.75
         ],
         "y": [
          "Lithuania",
          "Lithuania"
         ]
        },
        {
         "legendgroup": "Lithuania",
         "line": {
          "color": "rgb(166,86,40)"
         },
         "mode": "lines+markers",
         "name": "Lithuania",
         "type": "scatter",
         "visible": false,
         "x": [
          38.88888888888889,
          37.5
         ],
         "y": [
          "Lithuania",
          "Lithuania"
         ]
        },
        {
         "legendgroup": "Luxembourg",
         "line": {
          "color": "rgb(247,129,191)"
         },
         "mode": "lines+markers",
         "name": "Luxembourg",
         "type": "scatter",
         "visible": true,
         "x": [
          80.95238095238095
         ],
         "y": [
          "Luxembourg"
         ]
        },
        {
         "legendgroup": "Luxembourg",
         "line": {
          "color": "rgb(247,129,191)"
         },
         "mode": "lines+markers",
         "name": "Luxembourg",
         "type": "scatter",
         "visible": false,
         "x": [
          72.61904761904762
         ],
         "y": [
          "Luxembourg"
         ]
        },
        {
         "legendgroup": "Luxembourg",
         "line": {
          "color": "rgb(247,129,191)"
         },
         "mode": "lines+markers",
         "name": "Luxembourg",
         "type": "scatter",
         "visible": false,
         "x": [
          90.47619047619048
         ],
         "y": [
          "Luxembourg"
         ]
        },
        {
         "legendgroup": "Luxembourg",
         "line": {
          "color": "rgb(247,129,191)"
         },
         "mode": "lines+markers",
         "name": "Luxembourg",
         "type": "scatter",
         "visible": false,
         "x": [
          78.57142857142857
         ],
         "y": [
          "Luxembourg"
         ]
        },
        {
         "legendgroup": "Malta",
         "line": {
          "color": "rgb(153,153,153)"
         },
         "mode": "lines+markers",
         "name": "Malta",
         "type": "scatter",
         "visible": true,
         "x": [
          54.90196078431373
         ],
         "y": [
          "Malta"
         ]
        },
        {
         "legendgroup": "Malta",
         "line": {
          "color": "rgb(153,153,153)"
         },
         "mode": "lines+markers",
         "name": "Malta",
         "type": "scatter",
         "visible": false,
         "x": [
          50.98039215686274
         ],
         "y": [
          "Malta"
         ]
        },
        {
         "legendgroup": "Malta",
         "line": {
          "color": "rgb(153,153,153)"
         },
         "mode": "lines+markers",
         "name": "Malta",
         "type": "scatter",
         "visible": false,
         "x": [
          66.66666666666666
         ],
         "y": [
          "Malta"
         ]
        },
        {
         "legendgroup": "Malta",
         "line": {
          "color": "rgb(153,153,153)"
         },
         "mode": "lines+markers",
         "name": "Malta",
         "type": "scatter",
         "visible": false,
         "x": [
          47.05882352941176
         ],
         "y": [
          "Malta"
         ]
        },
        {
         "legendgroup": "Netherlands",
         "line": {
          "color": "rgb(228,26,28)"
         },
         "mode": "lines+markers",
         "name": "Netherlands",
         "type": "scatter",
         "visible": true,
         "x": [
          63.63636363636363,
          67.56756756756756,
          61.53846153846154,
          83.33333333333334
         ],
         "y": [
          "Netherlands",
          "Netherlands",
          "Netherlands",
          "Netherlands"
         ]
        },
        {
         "legendgroup": "Netherlands",
         "line": {
          "color": "rgb(228,26,28)"
         },
         "mode": "lines+markers",
         "name": "Netherlands",
         "type": "scatter",
         "visible": false,
         "x": [
          63.63636363636363,
          59.45945945945946,
          84.61538461538461,
          50
         ],
         "y": [
          "Netherlands",
          "Netherlands",
          "Netherlands",
          "Netherlands"
         ]
        },
        {
         "legendgroup": "Netherlands",
         "line": {
          "color": "rgb(228,26,28)"
         },
         "mode": "lines+markers",
         "name": "Netherlands",
         "type": "scatter",
         "visible": false,
         "x": [
          77.27272727272727,
          83.78378378378379,
          76.92307692307693,
          100
         ],
         "y": [
          "Netherlands",
          "Netherlands",
          "Netherlands",
          "Netherlands"
         ]
        },
        {
         "legendgroup": "Netherlands",
         "line": {
          "color": "rgb(228,26,28)"
         },
         "mode": "lines+markers",
         "name": "Netherlands",
         "type": "scatter",
         "visible": false,
         "x": [
          63.63636363636363,
          81.08108108108108,
          61.53846153846154,
          66.66666666666666
         ],
         "y": [
          "Netherlands",
          "Netherlands",
          "Netherlands",
          "Netherlands"
         ]
        },
        {
         "legendgroup": "Portugal",
         "line": {
          "color": "rgb(55,126,184)"
         },
         "mode": "lines+markers",
         "name": "Portugal",
         "type": "scatter",
         "visible": true,
         "x": [
          62
         ],
         "y": [
          "Portugal"
         ]
        },
        {
         "legendgroup": "Portugal",
         "line": {
          "color": "rgb(55,126,184)"
         },
         "mode": "lines+markers",
         "name": "Portugal",
         "type": "scatter",
         "visible": false,
         "x": [
          57.99999999999999
         ],
         "y": [
          "Portugal"
         ]
        },
        {
         "legendgroup": "Portugal",
         "line": {
          "color": "rgb(55,126,184)"
         },
         "mode": "lines+markers",
         "name": "Portugal",
         "type": "scatter",
         "visible": false,
         "x": [
          74
         ],
         "y": [
          "Portugal"
         ]
        },
        {
         "legendgroup": "Portugal",
         "line": {
          "color": "rgb(55,126,184)"
         },
         "mode": "lines+markers",
         "name": "Portugal",
         "type": "scatter",
         "visible": false,
         "x": [
          68
         ],
         "y": [
          "Portugal"
         ]
        },
        {
         "legendgroup": "Sweden",
         "line": {
          "color": "rgb(77,175,74)"
         },
         "mode": "lines+markers",
         "name": "Sweden",
         "type": "scatter",
         "visible": true,
         "x": [
          38.88888888888889,
          50,
          50
         ],
         "y": [
          "Sweden",
          "Sweden",
          "Sweden"
         ]
        },
        {
         "legendgroup": "Sweden",
         "line": {
          "color": "rgb(77,175,74)"
         },
         "mode": "lines+markers",
         "name": "Sweden",
         "type": "scatter",
         "visible": false,
         "x": [
          33.33333333333333,
          45.83333333333333,
          62.5
         ],
         "y": [
          "Sweden",
          "Sweden",
          "Sweden"
         ]
        },
        {
         "legendgroup": "Sweden",
         "line": {
          "color": "rgb(77,175,74)"
         },
         "mode": "lines+markers",
         "name": "Sweden",
         "type": "scatter",
         "visible": false,
         "x": [
          61.111111111111114,
          58.333333333333336,
          75
         ],
         "y": [
          "Sweden",
          "Sweden",
          "Sweden"
         ]
        },
        {
         "legendgroup": "Sweden",
         "line": {
          "color": "rgb(77,175,74)"
         },
         "mode": "lines+markers",
         "name": "Sweden",
         "type": "scatter",
         "visible": false,
         "x": [
          44.44444444444444,
          62.5,
          62.5
         ],
         "y": [
          "Sweden",
          "Sweden",
          "Sweden"
         ]
        },
        {
         "legendgroup": "Slovenia",
         "line": {
          "color": "rgb(152,78,163)"
         },
         "mode": "lines+markers",
         "name": "Slovenia",
         "type": "scatter",
         "visible": true,
         "x": [
          48.38709677419355,
          31.818181818181817
         ],
         "y": [
          "Slovenia",
          "Slovenia"
         ]
        },
        {
         "legendgroup": "Slovenia",
         "line": {
          "color": "rgb(152,78,163)"
         },
         "mode": "lines+markers",
         "name": "Slovenia",
         "type": "scatter",
         "visible": false,
         "x": [
          32.25806451612903,
          18.181818181818183
         ],
         "y": [
          "Slovenia",
          "Slovenia"
         ]
        },
        {
         "legendgroup": "Slovenia",
         "line": {
          "color": "rgb(152,78,163)"
         },
         "mode": "lines+markers",
         "name": "Slovenia",
         "type": "scatter",
         "visible": false,
         "x": [
          51.61290322580645,
          54.54545454545454
         ],
         "y": [
          "Slovenia",
          "Slovenia"
         ]
        },
        {
         "legendgroup": "Slovenia",
         "line": {
          "color": "rgb(152,78,163)"
         },
         "mode": "lines+markers",
         "name": "Slovenia",
         "type": "scatter",
         "visible": false,
         "x": [
          29.03225806451613,
          36.36363636363637
         ],
         "y": [
          "Slovenia",
          "Slovenia"
         ]
        },
        {
         "legendgroup": "Slovakia",
         "line": {
          "color": "rgb(255,127,0)"
         },
         "mode": "lines+markers",
         "name": "Slovakia",
         "type": "scatter",
         "visible": true,
         "x": [
          53.333333333333336,
          55.55555555555556,
          48.484848484848484,
          71.42857142857143
         ],
         "y": [
          "Slovakia",
          "Slovakia",
          "Slovakia",
          "Slovakia"
         ]
        },
        {
         "legendgroup": "Slovakia",
         "line": {
          "color": "rgb(255,127,0)"
         },
         "mode": "lines+markers",
         "name": "Slovakia",
         "type": "scatter",
         "visible": false,
         "x": [
          73.33333333333333,
          37.03703703703704,
          51.515151515151516,
          61.904761904761905
         ],
         "y": [
          "Slovakia",
          "Slovakia",
          "Slovakia",
          "Slovakia"
         ]
        },
        {
         "legendgroup": "Slovakia",
         "line": {
          "color": "rgb(255,127,0)"
         },
         "mode": "lines+markers",
         "name": "Slovakia",
         "type": "scatter",
         "visible": false,
         "x": [
          46.666666666666664,
          44.44444444444444,
          57.57575757575758,
          61.904761904761905
         ],
         "y": [
          "Slovakia",
          "Slovakia",
          "Slovakia",
          "Slovakia"
         ]
        },
        {
         "legendgroup": "Slovakia",
         "line": {
          "color": "rgb(255,127,0)"
         },
         "mode": "lines+markers",
         "name": "Slovakia",
         "type": "scatter",
         "visible": false,
         "x": [
          53.333333333333336,
          51.85185185185185,
          45.45454545454545,
          76.19047619047619
         ],
         "y": [
          "Slovakia",
          "Slovakia",
          "Slovakia",
          "Slovakia"
         ]
        }
       ],
       "layout": {
        "legend": {
         "bgcolor": "rgba(255,255,255,0.5)",
         "title": {
          "text": "Country"
         },
         "traceorder": "normal",
         "x": 1,
         "xanchor": "left",
         "y": 1,
         "yanchor": "top"
        },
        "margin": {
         "b": 100,
         "l": 20,
         "r": 0,
         "t": 50
        },
        "template": {
         "data": {
          "bar": [
           {
            "error_x": {
             "color": "#2a3f5f"
            },
            "error_y": {
             "color": "#2a3f5f"
            },
            "marker": {
             "line": {
              "color": "#E5ECF6",
              "width": 0.5
             },
             "pattern": {
              "fillmode": "overlay",
              "size": 10,
              "solidity": 0.2
             }
            },
            "type": "bar"
           }
          ],
          "barpolar": [
           {
            "marker": {
             "line": {
              "color": "#E5ECF6",
              "width": 0.5
             },
             "pattern": {
              "fillmode": "overlay",
              "size": 10,
              "solidity": 0.2
             }
            },
            "type": "barpolar"
           }
          ],
          "carpet": [
           {
            "aaxis": {
             "endlinecolor": "#2a3f5f",
             "gridcolor": "white",
             "linecolor": "white",
             "minorgridcolor": "white",
             "startlinecolor": "#2a3f5f"
            },
            "baxis": {
             "endlinecolor": "#2a3f5f",
             "gridcolor": "white",
             "linecolor": "white",
             "minorgridcolor": "white",
             "startlinecolor": "#2a3f5f"
            },
            "type": "carpet"
           }
          ],
          "choropleth": [
           {
            "colorbar": {
             "outlinewidth": 0,
             "ticks": ""
            },
            "type": "choropleth"
           }
          ],
          "contour": [
           {
            "colorbar": {
             "outlinewidth": 0,
             "ticks": ""
            },
            "colorscale": [
             [
              0,
              "#0d0887"
             ],
             [
              0.1111111111111111,
              "#46039f"
             ],
             [
              0.2222222222222222,
              "#7201a8"
             ],
             [
              0.3333333333333333,
              "#9c179e"
             ],
             [
              0.4444444444444444,
              "#bd3786"
             ],
             [
              0.5555555555555556,
              "#d8576b"
             ],
             [
              0.6666666666666666,
              "#ed7953"
             ],
             [
              0.7777777777777778,
              "#fb9f3a"
             ],
             [
              0.8888888888888888,
              "#fdca26"
             ],
             [
              1,
              "#f0f921"
             ]
            ],
            "type": "contour"
           }
          ],
          "contourcarpet": [
           {
            "colorbar": {
             "outlinewidth": 0,
             "ticks": ""
            },
            "type": "contourcarpet"
           }
          ],
          "heatmap": [
           {
            "colorbar": {
             "outlinewidth": 0,
             "ticks": ""
            },
            "colorscale": [
             [
              0,
              "#0d0887"
             ],
             [
              0.1111111111111111,
              "#46039f"
             ],
             [
              0.2222222222222222,
              "#7201a8"
             ],
             [
              0.3333333333333333,
              "#9c179e"
             ],
             [
              0.4444444444444444,
              "#bd3786"
             ],
             [
              0.5555555555555556,
              "#d8576b"
             ],
             [
              0.6666666666666666,
              "#ed7953"
             ],
             [
              0.7777777777777778,
              "#fb9f3a"
             ],
             [
              0.8888888888888888,
              "#fdca26"
             ],
             [
              1,
              "#f0f921"
             ]
            ],
            "type": "heatmap"
           }
          ],
          "heatmapgl": [
           {
            "colorbar": {
             "outlinewidth": 0,
             "ticks": ""
            },
            "colorscale": [
             [
              0,
              "#0d0887"
             ],
             [
              0.1111111111111111,
              "#46039f"
             ],
             [
              0.2222222222222222,
              "#7201a8"
             ],
             [
              0.3333333333333333,
              "#9c179e"
             ],
             [
              0.4444444444444444,
              "#bd3786"
             ],
             [
              0.5555555555555556,
              "#d8576b"
             ],
             [
              0.6666666666666666,
              "#ed7953"
             ],
             [
              0.7777777777777778,
              "#fb9f3a"
             ],
             [
              0.8888888888888888,
              "#fdca26"
             ],
             [
              1,
              "#f0f921"
             ]
            ],
            "type": "heatmapgl"
           }
          ],
          "histogram": [
           {
            "marker": {
             "pattern": {
              "fillmode": "overlay",
              "size": 10,
              "solidity": 0.2
             }
            },
            "type": "histogram"
           }
          ],
          "histogram2d": [
           {
            "colorbar": {
             "outlinewidth": 0,
             "ticks": ""
            },
            "colorscale": [
             [
              0,
              "#0d0887"
             ],
             [
              0.1111111111111111,
              "#46039f"
             ],
             [
              0.2222222222222222,
              "#7201a8"
             ],
             [
              0.3333333333333333,
              "#9c179e"
             ],
             [
              0.4444444444444444,
              "#bd3786"
             ],
             [
              0.5555555555555556,
              "#d8576b"
             ],
             [
              0.6666666666666666,
              "#ed7953"
             ],
             [
              0.7777777777777778,
              "#fb9f3a"
             ],
             [
              0.8888888888888888,
              "#fdca26"
             ],
             [
              1,
              "#f0f921"
             ]
            ],
            "type": "histogram2d"
           }
          ],
          "histogram2dcontour": [
           {
            "colorbar": {
             "outlinewidth": 0,
             "ticks": ""
            },
            "colorscale": [
             [
              0,
              "#0d0887"
             ],
             [
              0.1111111111111111,
              "#46039f"
             ],
             [
              0.2222222222222222,
              "#7201a8"
             ],
             [
              0.3333333333333333,
              "#9c179e"
             ],
             [
              0.4444444444444444,
              "#bd3786"
             ],
             [
              0.5555555555555556,
              "#d8576b"
             ],
             [
              0.6666666666666666,
              "#ed7953"
             ],
             [
              0.7777777777777778,
              "#fb9f3a"
             ],
             [
              0.8888888888888888,
              "#fdca26"
             ],
             [
              1,
              "#f0f921"
             ]
            ],
            "type": "histogram2dcontour"
           }
          ],
          "mesh3d": [
           {
            "colorbar": {
             "outlinewidth": 0,
             "ticks": ""
            },
            "type": "mesh3d"
           }
          ],
          "parcoords": [
           {
            "line": {
             "colorbar": {
              "outlinewidth": 0,
              "ticks": ""
             }
            },
            "type": "parcoords"
           }
          ],
          "pie": [
           {
            "automargin": true,
            "type": "pie"
           }
          ],
          "scatter": [
           {
            "fillpattern": {
             "fillmode": "overlay",
             "size": 10,
             "solidity": 0.2
            },
            "type": "scatter"
           }
          ],
          "scatter3d": [
           {
            "line": {
             "colorbar": {
              "outlinewidth": 0,
              "ticks": ""
             }
            },
            "marker": {
             "colorbar": {
              "outlinewidth": 0,
              "ticks": ""
             }
            },
            "type": "scatter3d"
           }
          ],
          "scattercarpet": [
           {
            "marker": {
             "colorbar": {
              "outlinewidth": 0,
              "ticks": ""
             }
            },
            "type": "scattercarpet"
           }
          ],
          "scattergeo": [
           {
            "marker": {
             "colorbar": {
              "outlinewidth": 0,
              "ticks": ""
             }
            },
            "type": "scattergeo"
           }
          ],
          "scattergl": [
           {
            "marker": {
             "colorbar": {
              "outlinewidth": 0,
              "ticks": ""
             }
            },
            "type": "scattergl"
           }
          ],
          "scattermapbox": [
           {
            "marker": {
             "colorbar": {
              "outlinewidth": 0,
              "ticks": ""
             }
            },
            "type": "scattermapbox"
           }
          ],
          "scatterpolar": [
           {
            "marker": {
             "colorbar": {
              "outlinewidth": 0,
              "ticks": ""
             }
            },
            "type": "scatterpolar"
           }
          ],
          "scatterpolargl": [
           {
            "marker": {
             "colorbar": {
              "outlinewidth": 0,
              "ticks": ""
             }
            },
            "type": "scatterpolargl"
           }
          ],
          "scatterternary": [
           {
            "marker": {
             "colorbar": {
              "outlinewidth": 0,
              "ticks": ""
             }
            },
            "type": "scatterternary"
           }
          ],
          "surface": [
           {
            "colorbar": {
             "outlinewidth": 0,
             "ticks": ""
            },
            "colorscale": [
             [
              0,
              "#0d0887"
             ],
             [
              0.1111111111111111,
              "#46039f"
             ],
             [
              0.2222222222222222,
              "#7201a8"
             ],
             [
              0.3333333333333333,
              "#9c179e"
             ],
             [
              0.4444444444444444,
              "#bd3786"
             ],
             [
              0.5555555555555556,
              "#d8576b"
             ],
             [
              0.6666666666666666,
              "#ed7953"
             ],
             [
              0.7777777777777778,
              "#fb9f3a"
             ],
             [
              0.8888888888888888,
              "#fdca26"
             ],
             [
              1,
              "#f0f921"
             ]
            ],
            "type": "surface"
           }
          ],
          "table": [
           {
            "cells": {
             "fill": {
              "color": "#EBF0F8"
             },
             "line": {
              "color": "white"
             }
            },
            "header": {
             "fill": {
              "color": "#C8D4E3"
             },
             "line": {
              "color": "white"
             }
            },
            "type": "table"
           }
          ]
         },
         "layout": {
          "annotationdefaults": {
           "arrowcolor": "#2a3f5f",
           "arrowhead": 0,
           "arrowwidth": 1
          },
          "autotypenumbers": "strict",
          "coloraxis": {
           "colorbar": {
            "outlinewidth": 0,
            "ticks": ""
           }
          },
          "colorscale": {
           "diverging": [
            [
             0,
             "#8e0152"
            ],
            [
             0.1,
             "#c51b7d"
            ],
            [
             0.2,
             "#de77ae"
            ],
            [
             0.3,
             "#f1b6da"
            ],
            [
             0.4,
             "#fde0ef"
            ],
            [
             0.5,
             "#f7f7f7"
            ],
            [
             0.6,
             "#e6f5d0"
            ],
            [
             0.7,
             "#b8e186"
            ],
            [
             0.8,
             "#7fbc41"
            ],
            [
             0.9,
             "#4d9221"
            ],
            [
             1,
             "#276419"
            ]
           ],
           "sequential": [
            [
             0,
             "#0d0887"
            ],
            [
             0.1111111111111111,
             "#46039f"
            ],
            [
             0.2222222222222222,
             "#7201a8"
            ],
            [
             0.3333333333333333,
             "#9c179e"
            ],
            [
             0.4444444444444444,
             "#bd3786"
            ],
            [
             0.5555555555555556,
             "#d8576b"
            ],
            [
             0.6666666666666666,
             "#ed7953"
            ],
            [
             0.7777777777777778,
             "#fb9f3a"
            ],
            [
             0.8888888888888888,
             "#fdca26"
            ],
            [
             1,
             "#f0f921"
            ]
           ],
           "sequentialminus": [
            [
             0,
             "#0d0887"
            ],
            [
             0.1111111111111111,
             "#46039f"
            ],
            [
             0.2222222222222222,
             "#7201a8"
            ],
            [
             0.3333333333333333,
             "#9c179e"
            ],
            [
             0.4444444444444444,
             "#bd3786"
            ],
            [
             0.5555555555555556,
             "#d8576b"
            ],
            [
             0.6666666666666666,
             "#ed7953"
            ],
            [
             0.7777777777777778,
             "#fb9f3a"
            ],
            [
             0.8888888888888888,
             "#fdca26"
            ],
            [
             1,
             "#f0f921"
            ]
           ]
          },
          "colorway": [
           "#636efa",
           "#EF553B",
           "#00cc96",
           "#ab63fa",
           "#FFA15A",
           "#19d3f3",
           "#FF6692",
           "#B6E880",
           "#FF97FF",
           "#FECB52"
          ],
          "font": {
           "color": "#2a3f5f"
          },
          "geo": {
           "bgcolor": "white",
           "lakecolor": "white",
           "landcolor": "#E5ECF6",
           "showlakes": true,
           "showland": true,
           "subunitcolor": "white"
          },
          "hoverlabel": {
           "align": "left"
          },
          "hovermode": "closest",
          "mapbox": {
           "style": "light"
          },
          "paper_bgcolor": "white",
          "plot_bgcolor": "#E5ECF6",
          "polar": {
           "angularaxis": {
            "gridcolor": "white",
            "linecolor": "white",
            "ticks": ""
           },
           "bgcolor": "#E5ECF6",
           "radialaxis": {
            "gridcolor": "white",
            "linecolor": "white",
            "ticks": ""
           }
          },
          "scene": {
           "xaxis": {
            "backgroundcolor": "#E5ECF6",
            "gridcolor": "white",
            "gridwidth": 2,
            "linecolor": "white",
            "showbackground": true,
            "ticks": "",
            "zerolinecolor": "white"
           },
           "yaxis": {
            "backgroundcolor": "#E5ECF6",
            "gridcolor": "white",
            "gridwidth": 2,
            "linecolor": "white",
            "showbackground": true,
            "ticks": "",
            "zerolinecolor": "white"
           },
           "zaxis": {
            "backgroundcolor": "#E5ECF6",
            "gridcolor": "white",
            "gridwidth": 2,
            "linecolor": "white",
            "showbackground": true,
            "ticks": "",
            "zerolinecolor": "white"
           }
          },
          "shapedefaults": {
           "line": {
            "color": "#2a3f5f"
           }
          },
          "ternary": {
           "aaxis": {
            "gridcolor": "white",
            "linecolor": "white",
            "ticks": ""
           },
           "baxis": {
            "gridcolor": "white",
            "linecolor": "white",
            "ticks": ""
           },
           "bgcolor": "#E5ECF6",
           "caxis": {
            "gridcolor": "white",
            "linecolor": "white",
            "ticks": ""
           }
          },
          "title": {
           "x": 0.05
          },
          "xaxis": {
           "automargin": true,
           "gridcolor": "white",
           "linecolor": "white",
           "ticks": "",
           "title": {
            "standoff": 15
           },
           "zerolinecolor": "white",
           "zerolinewidth": 2
          },
          "yaxis": {
           "automargin": true,
           "gridcolor": "white",
           "linecolor": "white",
           "ticks": "",
           "title": {
            "standoff": 15
           },
           "zerolinecolor": "white",
           "zerolinewidth": 2
          }
         }
        },
        "title": {
         "text": "Dumbbell Chart for Trust"
        },
        "updatemenus": [
         {
          "buttons": [
           {
            "args": [
             {
              "visible": [
               true,
               false,
               false,
               false,
               true,
               false,
               false,
               false,
               true,
               false,
               false,
               false,
               true,
               false,
               false,
               false,
               true,
               false,
               false,
               false,
               true,
               false,
               false,
               false,
               true,
               false,
               false,
               false,
               true,
               false,
               false,
               false,
               true,
               false,
               false,
               false,
               true,
               false,
               false,
               false,
               true,
               false,
               false,
               false,
               true,
               false,
               false,
               false,
               true,
               false,
               false,
               false,
               true,
               false,
               false,
               false,
               true,
               false,
               false,
               false,
               true,
               false,
               false,
               false,
               true,
               false,
               false,
               false,
               true,
               false,
               false,
               false,
               true,
               false,
               false,
               false,
               true,
               false,
               false,
               false,
               true,
               false,
               false,
               false,
               true,
               false,
               false,
               false,
               true,
               false,
               false,
               false,
               true,
               false,
               false,
               false,
               true,
               false,
               false,
               false,
               true,
               false,
               false,
               false,
               true,
               false,
               false,
               false,
               true,
               false,
               false,
               false,
               true,
               false,
               false,
               false,
               true,
               false,
               false,
               false,
               true,
               false,
               false,
               false,
               true,
               false,
               false,
               false,
               true,
               false,
               false,
               false,
               true,
               false,
               false,
               false,
               true,
               false,
               false,
               false,
               true,
               false,
               false,
               false,
               true,
               false,
               false,
               false,
               true,
               false,
               false,
               false,
               true,
               false,
               false,
               false,
               true,
               false,
               false,
               false,
               true,
               false,
               false,
               false,
               true,
               false,
               false,
               false,
               true,
               false,
               false,
               false,
               true,
               false,
               false,
               false,
               true,
               false,
               false,
               false,
               true,
               false,
               false,
               false,
               true,
               false,
               false,
               false,
               true,
               false,
               false,
               false,
               true,
               false,
               false,
               false,
               true,
               false,
               false,
               false,
               true,
               false,
               false,
               false,
               true,
               false,
               false,
               false,
               true,
               false,
               false,
               false,
               true,
               false,
               false,
               false,
               true,
               false,
               false,
               false,
               true,
               false,
               false,
               false,
               true,
               false,
               false,
               false,
               true,
               false,
               false,
               false,
               true,
               false,
               false,
               false,
               true,
               false,
               false,
               false,
               true,
               false,
               false,
               false,
               true,
               false,
               false,
               false,
               true,
               false,
               false,
               false,
               true,
               false,
               false,
               false,
               true,
               false,
               false,
               false,
               true,
               false,
               false,
               false,
               true,
               false,
               false,
               false,
               true,
               false,
               false,
               false,
               true,
               false,
               false,
               false,
               true,
               false,
               false,
               false,
               true,
               false,
               false,
               false,
               true,
               false,
               false,
               false,
               true,
               false,
               false,
               false,
               true,
               false,
               false,
               false,
               true,
               false,
               false,
               false,
               true,
               false,
               false,
               false,
               true,
               false,
               false,
               false,
               true,
               false,
               false,
               false,
               true,
               false,
               false,
               false,
               true,
               false,
               false,
               false,
               true,
               false,
               false,
               false,
               true,
               false,
               false,
               false,
               true,
               false,
               false,
               false,
               true,
               false,
               false,
               false,
               true,
               false,
               false,
               false,
               true,
               false,
               false,
               false,
               true,
               false,
               false,
               false,
               true,
               false,
               false,
               false,
               true,
               false,
               false,
               false,
               true,
               false,
               false,
               false,
               true,
               false,
               false,
               false,
               true,
               false,
               false,
               false,
               true,
               false,
               false,
               false,
               true,
               false,
               false,
               false
              ]
             },
             {
              "title": "Dumbbell Chart for TRT_judges"
             }
            ],
            "label": "TRT_judges",
            "method": "update"
           },
           {
            "args": [
             {
              "visible": [
               false,
               true,
               false,
               false,
               false,
               true,
               false,
               false,
               false,
               true,
               false,
               false,
               false,
               true,
               false,
               false,
               false,
               true,
               false,
               false,
               false,
               true,
               false,
               false,
               false,
               true,
               false,
               false,
               false,
               true,
               false,
               false,
               false,
               true,
               false,
               false,
               false,
               true,
               false,
               false,
               false,
               true,
               false,
               false,
               false,
               true,
               false,
               false,
               false,
               true,
               false,
               false,
               false,
               true,
               false,
               false,
               false,
               true,
               false,
               false,
               false,
               true,
               false,
               false,
               false,
               true,
               false,
               false,
               false,
               true,
               false,
               false,
               false,
               true,
               false,
               false,
               false,
               true,
               false,
               false,
               false,
               true,
               false,
               false,
               false,
               true,
               false,
               false,
               false,
               true,
               false,
               false,
               false,
               true,
               false,
               false,
               false,
               true,
               false,
               false,
               false,
               true,
               false,
               false,
               false,
               true,
               false,
               false,
               false,
               true,
               false,
               false,
               false,
               true,
               false,
               false,
               false,
               true,
               false,
               false,
               false,
               true,
               false,
               false,
               false,
               true,
               false,
               false,
               false,
               true,
               false,
               false,
               false,
               true,
               false,
               false,
               false,
               true,
               false,
               false,
               false,
               true,
               false,
               false,
               false,
               true,
               false,
               false,
               false,
               true,
               false,
               false,
               false,
               true,
               false,
               false,
               false,
               true,
               false,
               false,
               false,
               true,
               false,
               false,
               false,
               true,
               false,
               false,
               false,
               true,
               false,
               false,
               false,
               true,
               false,
               false,
               false,
               true,
               false,
               false,
               false,
               true,
               false,
               false,
               false,
               true,
               false,
               false,
               false,
               true,
               false,
               false,
               false,
               true,
               false,
               false,
               false,
               true,
               false,
               false,
               false,
               true,
               false,
               false,
               false,
               true,
               false,
               false,
               false,
               true,
               false,
               false,
               false,
               true,
               false,
               false,
               false,
               true,
               false,
               false,
               false,
               true,
               false,
               false,
               false,
               true,
               false,
               false,
               false,
               true,
               false,
               false,
               false,
               true,
               false,
               false,
               false,
               true,
               false,
               false,
               false,
               true,
               false,
               false,
               false,
               true,
               false,
               false,
               false,
               true,
               false,
               false,
               false,
               true,
               false,
               false,
               false,
               true,
               false,
               false,
               false,
               true,
               false,
               false,
               false,
               true,
               false,
               false,
               false,
               true,
               false,
               false,
               false,
               true,
               false,
               false,
               false,
               true,
               false,
               false,
               false,
               true,
               false,
               false,
               false,
               true,
               false,
               false,
               false,
               true,
               false,
               false,
               false,
               true,
               false,
               false,
               false,
               true,
               false,
               false,
               false,
               true,
               false,
               false,
               false,
               true,
               false,
               false,
               false,
               true,
               false,
               false,
               false,
               true,
               false,
               false,
               false,
               true,
               false,
               false,
               false,
               true,
               false,
               false,
               false,
               true,
               false,
               false,
               false,
               true,
               false,
               false,
               false,
               true,
               false,
               false,
               false,
               true,
               false,
               false,
               false,
               true,
               false,
               false,
               false,
               true,
               false,
               false,
               false,
               true,
               false,
               false,
               false,
               true,
               false,
               false,
               false,
               true,
               false,
               false,
               false,
               true,
               false,
               false,
               false,
               true,
               false,
               false,
               false,
               true,
               false,
               false,
               false,
               true,
               false,
               false
              ]
             },
             {
              "title": "Dumbbell Chart for TRT_pda"
             }
            ],
            "label": "TRT_pda",
            "method": "update"
           },
           {
            "args": [
             {
              "visible": [
               false,
               false,
               true,
               false,
               false,
               false,
               true,
               false,
               false,
               false,
               true,
               false,
               false,
               false,
               true,
               false,
               false,
               false,
               true,
               false,
               false,
               false,
               true,
               false,
               false,
               false,
               true,
               false,
               false,
               false,
               true,
               false,
               false,
               false,
               true,
               false,
               false,
               false,
               true,
               false,
               false,
               false,
               true,
               false,
               false,
               false,
               true,
               false,
               false,
               false,
               true,
               false,
               false,
               false,
               true,
               false,
               false,
               false,
               true,
               false,
               false,
               false,
               true,
               false,
               false,
               false,
               true,
               false,
               false,
               false,
               true,
               false,
               false,
               false,
               true,
               false,
               false,
               false,
               true,
               false,
               false,
               false,
               true,
               false,
               false,
               false,
               true,
               false,
               false,
               false,
               true,
               false,
               false,
               false,
               true,
               false,
               false,
               false,
               true,
               false,
               false,
               false,
               true,
               false,
               false,
               false,
               true,
               false,
               false,
               false,
               true,
               false,
               false,
               false,
               true,
               false,
               false,
               false,
               true,
               false,
               false,
               false,
               true,
               false,
               false,
               false,
               true,
               false,
               false,
               false,
               true,
               false,
               false,
               false,
               true,
               false,
               false,
               false,
               true,
               false,
               false,
               false,
               true,
               false,
               false,
               false,
               true,
               false,
               false,
               false,
               true,
               false,
               false,
               false,
               true,
               false,
               false,
               false,
               true,
               false,
               false,
               false,
               true,
               false,
               false,
               false,
               true,
               false,
               false,
               false,
               true,
               false,
               false,
               false,
               true,
               false,
               false,
               false,
               true,
               false,
               false,
               false,
               true,
               false,
               false,
               false,
               true,
               false,
               false,
               false,
               true,
               false,
               false,
               false,
               true,
               false,
               false,
               false,
               true,
               false,
               false,
               false,
               true,
               false,
               false,
               false,
               true,
               false,
               false,
               false,
               true,
               false,
               false,
               false,
               true,
               false,
               false,
               false,
               true,
               false,
               false,
               false,
               true,
               false,
               false,
               false,
               true,
               false,
               false,
               false,
               true,
               false,
               false,
               false,
               true,
               false,
               false,
               false,
               true,
               false,
               false,
               false,
               true,
               false,
               false,
               false,
               true,
               false,
               false,
               false,
               true,
               false,
               false,
               false,
               true,
               false,
               false,
               false,
               true,
               false,
               false,
               false,
               true,
               false,
               false,
               false,
               true,
               false,
               false,
               false,
               true,
               false,
               false,
               false,
               true,
               false,
               false,
               false,
               true,
               false,
               false,
               false,
               true,
               false,
               false,
               false,
               true,
               false,
               false,
               false,
               true,
               false,
               false,
               false,
               true,
               false,
               false,
               false,
               true,
               false,
               false,
               false,
               true,
               false,
               false,
               false,
               true,
               false,
               false,
               false,
               true,
               false,
               false,
               false,
               true,
               false,
               false,
               false,
               true,
               false,
               false,
               false,
               true,
               false,
               false,
               false,
               true,
               false,
               false,
               false,
               true,
               false,
               false,
               false,
               true,
               false,
               false,
               false,
               true,
               false,
               false,
               false,
               true,
               false,
               false,
               false,
               true,
               false,
               false,
               false,
               true,
               false,
               false,
               false,
               true,
               false,
               false,
               false,
               true,
               false,
               false,
               false,
               true,
               false,
               false,
               false,
               true,
               false,
               false,
               false,
               true,
               false,
               false,
               false,
               true,
               false
              ]
             },
             {
              "title": "Dumbbell Chart for TRT_police"
             }
            ],
            "label": "TRT_police",
            "method": "update"
           },
           {
            "args": [
             {
              "visible": [
               false,
               false,
               false,
               true,
               false,
               false,
               false,
               true,
               false,
               false,
               false,
               true,
               false,
               false,
               false,
               true,
               false,
               false,
               false,
               true,
               false,
               false,
               false,
               true,
               false,
               false,
               false,
               true,
               false,
               false,
               false,
               true,
               false,
               false,
               false,
               true,
               false,
               false,
               false,
               true,
               false,
               false,
               false,
               true,
               false,
               false,
               false,
               true,
               false,
               false,
               false,
               true,
               false,
               false,
               false,
               true,
               false,
               false,
               false,
               true,
               false,
               false,
               false,
               true,
               false,
               false,
               false,
               true,
               false,
               false,
               false,
               true,
               false,
               false,
               false,
               true,
               false,
               false,
               false,
               true,
               false,
               false,
               false,
               true,
               false,
               false,
               false,
               true,
               false,
               false,
               false,
               true,
               false,
               false,
               false,
               true,
               false,
               false,
               false,
               true,
               false,
               false,
               false,
               true,
               false,
               false,
               false,
               true,
               false,
               false,
               false,
               true,
               false,
               false,
               false,
               true,
               false,
               false,
               false,
               true,
               false,
               false,
               false,
               true,
               false,
               false,
               false,
               true,
               false,
               false,
               false,
               true,
               false,
               false,
               false,
               true,
               false,
               false,
               false,
               true,
               false,
               false,
               false,
               true,
               false,
               false,
               false,
               true,
               false,
               false,
               false,
               true,
               false,
               false,
               false,
               true,
               false,
               false,
               false,
               true,
               false,
               false,
               false,
               true,
               false,
               false,
               false,
               true,
               false,
               false,
               false,
               true,
               false,
               false,
               false,
               true,
               false,
               false,
               false,
               true,
               false,
               false,
               false,
               true,
               false,
               false,
               false,
               true,
               false,
               false,
               false,
               true,
               false,
               false,
               false,
               true,
               false,
               false,
               false,
               true,
               false,
               false,
               false,
               true,
               false,
               false,
               false,
               true,
               false,
               false,
               false,
               true,
               false,
               false,
               false,
               true,
               false,
               false,
               false,
               true,
               false,
               false,
               false,
               true,
               false,
               false,
               false,
               true,
               false,
               false,
               false,
               true,
               false,
               false,
               false,
               true,
               false,
               false,
               false,
               true,
               false,
               false,
               false,
               true,
               false,
               false,
               false,
               true,
               false,
               false,
               false,
               true,
               false,
               false,
               false,
               true,
               false,
               false,
               false,
               true,
               false,
               false,
               false,
               true,
               false,
               false,
               false,
               true,
               false,
               false,
               false,
               true,
               false,
               false,
               false,
               true,
               false,
               false,
               false,
               true,
               false,
               false,
               false,
               true,
               false,
               false,
               false,
               true,
               false,
               false,
               false,
               true,
               false,
               false,
               false,
               true,
               false,
               false,
               false,
               true,
               false,
               false,
               false,
               true,
               false,
               false,
               false,
               true,
               false,
               false,
               false,
               true,
               false,
               false,
               false,
               true,
               false,
               false,
               false,
               true,
               false,
               false,
               false,
               true,
               false,
               false,
               false,
               true,
               false,
               false,
               false,
               true,
               false,
               false,
               false,
               true,
               false,
               false,
               false,
               true,
               false,
               false,
               false,
               true,
               false,
               false,
               false,
               true,
               false,
               false,
               false,
               true,
               false,
               false,
               false,
               true,
               false,
               false,
               false,
               true,
               false,
               false,
               false,
               true,
               false,
               false,
               false,
               true,
               false,
               false,
               false,
               true,
               false,
               false,
               false,
               true
              ]
             },
             {
              "title": "Dumbbell Chart for TRT_prosecutors"
             }
            ],
            "label": "TRT_prosecutors",
            "method": "update"
           }
          ],
          "direction": "down",
          "showactive": true,
          "x": 1.25,
          "xanchor": "left",
          "y": 1,
          "yanchor": "top"
         }
        ],
        "xaxis": {
         "title": {
          "text": "Percentage"
         }
        },
        "yaxis": {
         "title": {
          "text": "Country"
         }
        }
       }
      },
      "text/html": [
       "<div>                            <div id=\"fe7e1894-efcd-4865-aad7-f29a51318aad\" class=\"plotly-graph-div\" style=\"height:525px; width:100%;\"></div>            <script type=\"text/javascript\">                require([\"plotly\"], function(Plotly) {                    window.PLOTLYENV=window.PLOTLYENV || {};                                    if (document.getElementById(\"fe7e1894-efcd-4865-aad7-f29a51318aad\")) {                    Plotly.newPlot(                        \"fe7e1894-efcd-4865-aad7-f29a51318aad\",                        [{\"legendgroup\":\"Austria\",\"line\":{\"color\":\"rgb(228,26,28)\"},\"mode\":\"lines+markers\",\"name\":\"Austria\",\"visible\":true,\"x\":[67.56756756756756,62.5,60.0],\"y\":[\"Austria\",\"Austria\",\"Austria\"],\"type\":\"scatter\"},{\"legendgroup\":\"Austria\",\"line\":{\"color\":\"rgb(228,26,28)\"},\"mode\":\"lines+markers\",\"name\":\"Austria\",\"visible\":false,\"x\":[56.75675675675676,62.5,55.00000000000001],\"y\":[\"Austria\",\"Austria\",\"Austria\"],\"type\":\"scatter\"},{\"legendgroup\":\"Austria\",\"line\":{\"color\":\"rgb(228,26,28)\"},\"mode\":\"lines+markers\",\"name\":\"Austria\",\"visible\":false,\"x\":[67.56756756756756,87.5,70.0],\"y\":[\"Austria\",\"Austria\",\"Austria\"],\"type\":\"scatter\"},{\"legendgroup\":\"Austria\",\"line\":{\"color\":\"rgb(228,26,28)\"},\"mode\":\"lines+markers\",\"name\":\"Austria\",\"visible\":false,\"x\":[62.16216216216216,75.0,60.0],\"y\":[\"Austria\",\"Austria\",\"Austria\"],\"type\":\"scatter\"},{\"legendgroup\":\"Belgium\",\"line\":{\"color\":\"rgb(55,126,184)\"},\"mode\":\"lines+markers\",\"name\":\"Belgium\",\"visible\":true,\"x\":[25.0,51.06382978723404,46.666666666666664],\"y\":[\"Belgium\",\"Belgium\",\"Belgium\"],\"type\":\"scatter\"},{\"legendgroup\":\"Belgium\",\"line\":{\"color\":\"rgb(55,126,184)\"},\"mode\":\"lines+markers\",\"name\":\"Belgium\",\"visible\":false,\"x\":[50.0,25.53191489361702,26.666666666666668],\"y\":[\"Belgium\",\"Belgium\",\"Belgium\"],\"type\":\"scatter\"},{\"legendgroup\":\"Belgium\",\"line\":{\"color\":\"rgb(55,126,184)\"},\"mode\":\"lines+markers\",\"name\":\"Belgium\",\"visible\":false,\"x\":[25.0,61.702127659574465,66.66666666666666],\"y\":[\"Belgium\",\"Belgium\",\"Belgium\"],\"type\":\"scatter\"},{\"legendgroup\":\"Belgium\",\"line\":{\"color\":\"rgb(55,126,184)\"},\"mode\":\"lines+markers\",\"name\":\"Belgium\",\"visible\":false,\"x\":[50.0,38.297872340425535,53.333333333333336],\"y\":[\"Belgium\",\"Belgium\",\"Belgium\"],\"type\":\"scatter\"},{\"legendgroup\":\"Bulgaria\",\"line\":{\"color\":\"rgb(77,175,74)\"},\"mode\":\"lines+markers\",\"name\":\"Bulgaria\",\"visible\":true,\"x\":[25.0,0.0],\"y\":[\"Bulgaria\",\"Bulgaria\"],\"type\":\"scatter\"},{\"legendgroup\":\"Bulgaria\",\"line\":{\"color\":\"rgb(77,175,74)\"},\"mode\":\"lines+markers\",\"name\":\"Bulgaria\",\"visible\":false,\"x\":[25.0,20.0],\"y\":[\"Bulgaria\",\"Bulgaria\"],\"type\":\"scatter\"},{\"legendgroup\":\"Bulgaria\",\"line\":{\"color\":\"rgb(77,175,74)\"},\"mode\":\"lines+markers\",\"name\":\"Bulgaria\",\"visible\":false,\"x\":[57.49999999999999,40.0],\"y\":[\"Bulgaria\",\"Bulgaria\"],\"type\":\"scatter\"},{\"legendgroup\":\"Bulgaria\",\"line\":{\"color\":\"rgb(77,175,74)\"},\"mode\":\"lines+markers\",\"name\":\"Bulgaria\",\"visible\":false,\"x\":[35.0,10.0],\"y\":[\"Bulgaria\",\"Bulgaria\"],\"type\":\"scatter\"},{\"legendgroup\":\"Cyprus\",\"line\":{\"color\":\"rgb(152,78,163)\"},\"mode\":\"lines+markers\",\"name\":\"Cyprus\",\"visible\":true,\"x\":[22.0],\"y\":[\"Cyprus\"],\"type\":\"scatter\"},{\"legendgroup\":\"Cyprus\",\"line\":{\"color\":\"rgb(152,78,163)\"},\"mode\":\"lines+markers\",\"name\":\"Cyprus\",\"visible\":false,\"x\":[20.0],\"y\":[\"Cyprus\"],\"type\":\"scatter\"},{\"legendgroup\":\"Cyprus\",\"line\":{\"color\":\"rgb(152,78,163)\"},\"mode\":\"lines+markers\",\"name\":\"Cyprus\",\"visible\":false,\"x\":[28.000000000000004],\"y\":[\"Cyprus\"],\"type\":\"scatter\"},{\"legendgroup\":\"Cyprus\",\"line\":{\"color\":\"rgb(152,78,163)\"},\"mode\":\"lines+markers\",\"name\":\"Cyprus\",\"visible\":false,\"x\":[22.0],\"y\":[\"Cyprus\"],\"type\":\"scatter\"},{\"legendgroup\":\"Czechia\",\"line\":{\"color\":\"rgb(255,127,0)\"},\"mode\":\"lines+markers\",\"name\":\"Czechia\",\"visible\":true,\"x\":[20.0,50.0,57.14285714285714,22.22222222222222,83.33333333333334,87.5,50.0,100.0],\"y\":[\"Czechia\",\"Czechia\",\"Czechia\",\"Czechia\",\"Czechia\",\"Czechia\",\"Czechia\",\"Czechia\"],\"type\":\"scatter\"},{\"legendgroup\":\"Czechia\",\"line\":{\"color\":\"rgb(255,127,0)\"},\"mode\":\"lines+markers\",\"name\":\"Czechia\",\"visible\":false,\"x\":[60.0,50.0,28.57142857142857,22.22222222222222,66.66666666666666,62.5,20.0,100.0],\"y\":[\"Czechia\",\"Czechia\",\"Czechia\",\"Czechia\",\"Czechia\",\"Czechia\",\"Czechia\",\"Czechia\"],\"type\":\"scatter\"},{\"legendgroup\":\"Czechia\",\"line\":{\"color\":\"rgb(255,127,0)\"},\"mode\":\"lines+markers\",\"name\":\"Czechia\",\"visible\":false,\"x\":[100.0,100.0,57.14285714285714,44.44444444444444,66.66666666666666,87.5,60.0,100.0],\"y\":[\"Czechia\",\"Czechia\",\"Czechia\",\"Czechia\",\"Czechia\",\"Czechia\",\"Czechia\",\"Czechia\"],\"type\":\"scatter\"},{\"legendgroup\":\"Czechia\",\"line\":{\"color\":\"rgb(255,127,0)\"},\"mode\":\"lines+markers\",\"name\":\"Czechia\",\"visible\":false,\"x\":[60.0,50.0,57.14285714285714,33.33333333333333,50.0,87.5,30.0,100.0],\"y\":[\"Czechia\",\"Czechia\",\"Czechia\",\"Czechia\",\"Czechia\",\"Czechia\",\"Czechia\",\"Czechia\"],\"type\":\"scatter\"},{\"legendgroup\":\"Germany\",\"line\":{\"color\":\"rgb(255,255,51)\"},\"mode\":\"lines+markers\",\"name\":\"Germany\",\"visible\":true,\"x\":[66.66666666666666,55.55555555555556,66.66666666666666,50.0,0.0,75.0,55.55555555555556,44.44444444444444,76.47058823529412,100.0,85.71428571428571,66.66666666666666,66.66666666666666,100.0],\"y\":[\"Germany\",\"Germany\",\"Germany\",\"Germany\",\"Germany\",\"Germany\",\"Germany\",\"Germany\",\"Germany\",\"Germany\",\"Germany\",\"Germany\",\"Germany\",\"Germany\"],\"type\":\"scatter\"},{\"legendgroup\":\"Germany\",\"line\":{\"color\":\"rgb(255,255,51)\"},\"mode\":\"lines+markers\",\"name\":\"Germany\",\"visible\":false,\"x\":[66.66666666666666,44.44444444444444,33.33333333333333,100.0,100.0,25.0,66.66666666666666,66.66666666666666,29.411764705882355,75.0,85.71428571428571,0.0,66.66666666666666,100.0],\"y\":[\"Germany\",\"Germany\",\"Germany\",\"Germany\",\"Germany\",\"Germany\",\"Germany\",\"Germany\",\"Germany\",\"Germany\",\"Germany\",\"Germany\",\"Germany\",\"Germany\"],\"type\":\"scatter\"},{\"legendgroup\":\"Germany\",\"line\":{\"color\":\"rgb(255,255,51)\"},\"mode\":\"lines+markers\",\"name\":\"Germany\",\"visible\":false,\"x\":[66.66666666666666,55.55555555555556,66.66666666666666,50.0,100.0,100.0,66.66666666666666,55.55555555555556,70.58823529411765,100.0,85.71428571428571,33.33333333333333,100.0,100.0],\"y\":[\"Germany\",\"Germany\",\"Germany\",\"Germany\",\"Germany\",\"Germany\",\"Germany\",\"Germany\",\"Germany\",\"Germany\",\"Germany\",\"Germany\",\"Germany\",\"Germany\"],\"type\":\"scatter\"},{\"legendgroup\":\"Germany\",\"line\":{\"color\":\"rgb(255,255,51)\"},\"mode\":\"lines+markers\",\"name\":\"Germany\",\"visible\":false,\"x\":[66.66666666666666,44.44444444444444,66.66666666666666,50.0,0.0,75.0,77.77777777777779,66.66666666666666,58.82352941176471,75.0,85.71428571428571,33.33333333333333,100.0,100.0],\"y\":[\"Germany\",\"Germany\",\"Germany\",\"Germany\",\"Germany\",\"Germany\",\"Germany\",\"Germany\",\"Germany\",\"Germany\",\"Germany\",\"Germany\",\"Germany\",\"Germany\"],\"type\":\"scatter\"},{\"legendgroup\":\"Denmark\",\"line\":{\"color\":\"rgb(166,86,40)\"},\"mode\":\"lines+markers\",\"name\":\"Denmark\",\"visible\":true,\"x\":[72.22222222222221,85.71428571428571,76.47058823529412,80.0,100.0],\"y\":[\"Denmark\",\"Denmark\",\"Denmark\",\"Denmark\",\"Denmark\"],\"type\":\"scatter\"},{\"legendgroup\":\"Denmark\",\"line\":{\"color\":\"rgb(166,86,40)\"},\"mode\":\"lines+markers\",\"name\":\"Denmark\",\"visible\":false,\"x\":[61.111111111111114,71.42857142857143,64.70588235294117,73.33333333333333,83.33333333333334],\"y\":[\"Denmark\",\"Denmark\",\"Denmark\",\"Denmark\",\"Denmark\"],\"type\":\"scatter\"},{\"legendgroup\":\"Denmark\",\"line\":{\"color\":\"rgb(166,86,40)\"},\"mode\":\"lines+markers\",\"name\":\"Denmark\",\"visible\":false,\"x\":[77.77777777777779,71.42857142857143,76.47058823529412,93.33333333333333,83.33333333333334],\"y\":[\"Denmark\",\"Denmark\",\"Denmark\",\"Denmark\",\"Denmark\"],\"type\":\"scatter\"},{\"legendgroup\":\"Denmark\",\"line\":{\"color\":\"rgb(166,86,40)\"},\"mode\":\"lines+markers\",\"name\":\"Denmark\",\"visible\":false,\"x\":[66.66666666666666,71.42857142857143,64.70588235294117,86.66666666666667,83.33333333333334],\"y\":[\"Denmark\",\"Denmark\",\"Denmark\",\"Denmark\",\"Denmark\"],\"type\":\"scatter\"},{\"legendgroup\":\"Estonia\",\"line\":{\"color\":\"rgb(247,129,191)\"},\"mode\":\"lines+markers\",\"name\":\"Estonia\",\"visible\":true,\"x\":[60.37735849056604],\"y\":[\"Estonia\"],\"type\":\"scatter\"},{\"legendgroup\":\"Estonia\",\"line\":{\"color\":\"rgb(247,129,191)\"},\"mode\":\"lines+markers\",\"name\":\"Estonia\",\"visible\":false,\"x\":[64.15094339622641],\"y\":[\"Estonia\"],\"type\":\"scatter\"},{\"legendgroup\":\"Estonia\",\"line\":{\"color\":\"rgb(247,129,191)\"},\"mode\":\"lines+markers\",\"name\":\"Estonia\",\"visible\":false,\"x\":[83.01886792452831],\"y\":[\"Estonia\"],\"type\":\"scatter\"},{\"legendgroup\":\"Estonia\",\"line\":{\"color\":\"rgb(247,129,191)\"},\"mode\":\"lines+markers\",\"name\":\"Estonia\",\"visible\":false,\"x\":[64.15094339622641],\"y\":[\"Estonia\"],\"type\":\"scatter\"},{\"legendgroup\":\"Greece\",\"line\":{\"color\":\"rgb(153,153,153)\"},\"mode\":\"lines+markers\",\"name\":\"Greece\",\"visible\":true,\"x\":[60.0,6.666666666666667,0.0,26.666666666666668],\"y\":[\"Greece\",\"Greece\",\"Greece\",\"Greece\"],\"type\":\"scatter\"},{\"legendgroup\":\"Greece\",\"line\":{\"color\":\"rgb(153,153,153)\"},\"mode\":\"lines+markers\",\"name\":\"Greece\",\"visible\":false,\"x\":[30.0,6.666666666666667,10.0,33.33333333333333],\"y\":[\"Greece\",\"Greece\",\"Greece\",\"Greece\"],\"type\":\"scatter\"},{\"legendgroup\":\"Greece\",\"line\":{\"color\":\"rgb(153,153,153)\"},\"mode\":\"lines+markers\",\"name\":\"Greece\",\"visible\":false,\"x\":[30.0,26.666666666666668,20.0,33.33333333333333],\"y\":[\"Greece\",\"Greece\",\"Greece\",\"Greece\"],\"type\":\"scatter\"},{\"legendgroup\":\"Greece\",\"line\":{\"color\":\"rgb(153,153,153)\"},\"mode\":\"lines+markers\",\"name\":\"Greece\",\"visible\":false,\"x\":[50.0,6.666666666666667,0.0,13.333333333333334],\"y\":[\"Greece\",\"Greece\",\"Greece\",\"Greece\"],\"type\":\"scatter\"},{\"legendgroup\":\"Spain\",\"line\":{\"color\":\"rgb(228,26,28)\"},\"mode\":\"lines+markers\",\"name\":\"Spain\",\"visible\":true,\"x\":[33.33333333333333,28.57142857142857,71.42857142857143,54.54545454545454,50.0,33.33333333333333],\"y\":[\"Spain\",\"Spain\",\"Spain\",\"Spain\",\"Spain\",\"Spain\"],\"type\":\"scatter\"},{\"legendgroup\":\"Spain\",\"line\":{\"color\":\"rgb(228,26,28)\"},\"mode\":\"lines+markers\",\"name\":\"Spain\",\"visible\":false,\"x\":[50.0,42.857142857142854,71.42857142857143,63.63636363636363,50.0,66.66666666666666],\"y\":[\"Spain\",\"Spain\",\"Spain\",\"Spain\",\"Spain\",\"Spain\"],\"type\":\"scatter\"},{\"legendgroup\":\"Spain\",\"line\":{\"color\":\"rgb(228,26,28)\"},\"mode\":\"lines+markers\",\"name\":\"Spain\",\"visible\":false,\"x\":[66.66666666666666,71.42857142857143,85.71428571428571,72.72727272727273,62.5,83.33333333333334],\"y\":[\"Spain\",\"Spain\",\"Spain\",\"Spain\",\"Spain\",\"Spain\"],\"type\":\"scatter\"},{\"legendgroup\":\"Spain\",\"line\":{\"color\":\"rgb(228,26,28)\"},\"mode\":\"lines+markers\",\"name\":\"Spain\",\"visible\":false,\"x\":[50.0,42.857142857142854,57.14285714285714,36.36363636363637,50.0,66.66666666666666],\"y\":[\"Spain\",\"Spain\",\"Spain\",\"Spain\",\"Spain\",\"Spain\"],\"type\":\"scatter\"},{\"legendgroup\":\"Finland\",\"line\":{\"color\":\"rgb(55,126,184)\"},\"mode\":\"lines+markers\",\"name\":\"Finland\",\"visible\":true,\"x\":[76.92307692307693,76.47058823529412,88.88888888888889,84.61538461538461],\"y\":[\"Finland\",\"Finland\",\"Finland\",\"Finland\"],\"type\":\"scatter\"},{\"legendgroup\":\"Finland\",\"line\":{\"color\":\"rgb(55,126,184)\"},\"mode\":\"lines+markers\",\"name\":\"Finland\",\"visible\":false,\"x\":[69.23076923076923,82.35294117647058,77.77777777777779,53.84615384615385],\"y\":[\"Finland\",\"Finland\",\"Finland\",\"Finland\"],\"type\":\"scatter\"},{\"legendgroup\":\"Finland\",\"line\":{\"color\":\"rgb(55,126,184)\"},\"mode\":\"lines+markers\",\"name\":\"Finland\",\"visible\":false,\"x\":[84.61538461538461,88.23529411764706,88.88888888888889,92.3076923076923],\"y\":[\"Finland\",\"Finland\",\"Finland\",\"Finland\"],\"type\":\"scatter\"},{\"legendgroup\":\"Finland\",\"line\":{\"color\":\"rgb(55,126,184)\"},\"mode\":\"lines+markers\",\"name\":\"Finland\",\"visible\":false,\"x\":[84.61538461538461,88.23529411764706,88.88888888888889,76.92307692307693],\"y\":[\"Finland\",\"Finland\",\"Finland\",\"Finland\"],\"type\":\"scatter\"},{\"legendgroup\":\"France\",\"line\":{\"color\":\"rgb(77,175,74)\"},\"mode\":\"lines+markers\",\"name\":\"France\",\"visible\":true,\"x\":[37.5,50.0,100.0,50.0,0.0,20.0,50.0,50.0,75.0,66.66666666666666,50.0,50.0,100.0],\"y\":[\"France\",\"France\",\"France\",\"France\",\"France\",\"France\",\"France\",\"France\",\"France\",\"France\",\"France\",\"France\",\"France\"],\"type\":\"scatter\"},{\"legendgroup\":\"France\",\"line\":{\"color\":\"rgb(77,175,74)\"},\"mode\":\"lines+markers\",\"name\":\"France\",\"visible\":false,\"x\":[37.5,50.0,100.0,50.0,25.0,20.0,25.0,50.0,50.0,66.66666666666666,50.0,50.0,100.0],\"y\":[\"France\",\"France\",\"France\",\"France\",\"France\",\"France\",\"France\",\"France\",\"France\",\"France\",\"France\",\"France\",\"France\"],\"type\":\"scatter\"},{\"legendgroup\":\"France\",\"line\":{\"color\":\"rgb(77,175,74)\"},\"mode\":\"lines+markers\",\"name\":\"France\",\"visible\":false,\"x\":[50.0,75.0,100.0,50.0,25.0,20.0,75.0,50.0,75.0,100.0,50.0,50.0,0.0],\"y\":[\"France\",\"France\",\"France\",\"France\",\"France\",\"France\",\"France\",\"France\",\"France\",\"France\",\"France\",\"France\",\"France\"],\"type\":\"scatter\"},{\"legendgroup\":\"France\",\"line\":{\"color\":\"rgb(77,175,74)\"},\"mode\":\"lines+markers\",\"name\":\"France\",\"visible\":false,\"x\":[37.5,75.0,100.0,75.0,50.0,20.0,50.0,25.0,75.0,66.66666666666666,75.0,50.0,0.0],\"y\":[\"France\",\"France\",\"France\",\"France\",\"France\",\"France\",\"France\",\"France\",\"France\",\"France\",\"France\",\"France\",\"France\"],\"type\":\"scatter\"},{\"legendgroup\":\"Croatia\",\"line\":{\"color\":\"rgb(152,78,163)\"},\"mode\":\"lines+markers\",\"name\":\"Croatia\",\"visible\":true,\"x\":[50.0,43.75,35.714285714285715,33.33333333333333],\"y\":[\"Croatia\",\"Croatia\",\"Croatia\",\"Croatia\"],\"type\":\"scatter\"},{\"legendgroup\":\"Croatia\",\"line\":{\"color\":\"rgb(152,78,163)\"},\"mode\":\"lines+markers\",\"name\":\"Croatia\",\"visible\":false,\"x\":[64.28571428571429,43.75,50.0,16.666666666666664],\"y\":[\"Croatia\",\"Croatia\",\"Croatia\",\"Croatia\"],\"type\":\"scatter\"},{\"legendgroup\":\"Croatia\",\"line\":{\"color\":\"rgb(152,78,163)\"},\"mode\":\"lines+markers\",\"name\":\"Croatia\",\"visible\":false,\"x\":[85.71428571428571,62.5,92.85714285714286,50.0],\"y\":[\"Croatia\",\"Croatia\",\"Croatia\",\"Croatia\"],\"type\":\"scatter\"},{\"legendgroup\":\"Croatia\",\"line\":{\"color\":\"rgb(152,78,163)\"},\"mode\":\"lines+markers\",\"name\":\"Croatia\",\"visible\":false,\"x\":[50.0,43.75,42.857142857142854,16.666666666666664],\"y\":[\"Croatia\",\"Croatia\",\"Croatia\",\"Croatia\"],\"type\":\"scatter\"},{\"legendgroup\":\"Hungary\",\"line\":{\"color\":\"rgb(255,127,0)\"},\"mode\":\"lines+markers\",\"name\":\"Hungary\",\"visible\":true,\"x\":[32.758620689655174,11.11111111111111,43.75],\"y\":[\"Hungary\",\"Hungary\",\"Hungary\"],\"type\":\"scatter\"},{\"legendgroup\":\"Hungary\",\"line\":{\"color\":\"rgb(255,127,0)\"},\"mode\":\"lines+markers\",\"name\":\"Hungary\",\"visible\":false,\"x\":[25.862068965517242,11.11111111111111,43.75],\"y\":[\"Hungary\",\"Hungary\",\"Hungary\"],\"type\":\"scatter\"},{\"legendgroup\":\"Hungary\",\"line\":{\"color\":\"rgb(255,127,0)\"},\"mode\":\"lines+markers\",\"name\":\"Hungary\",\"visible\":false,\"x\":[48.275862068965516,11.11111111111111,31.25],\"y\":[\"Hungary\",\"Hungary\",\"Hungary\"],\"type\":\"scatter\"},{\"legendgroup\":\"Hungary\",\"line\":{\"color\":\"rgb(255,127,0)\"},\"mode\":\"lines+markers\",\"name\":\"Hungary\",\"visible\":false,\"x\":[39.6551724137931,22.22222222222222,50.0],\"y\":[\"Hungary\",\"Hungary\",\"Hungary\"],\"type\":\"scatter\"},{\"legendgroup\":\"Italy\",\"line\":{\"color\":\"rgb(255,255,51)\"},\"mode\":\"lines+markers\",\"name\":\"Italy\",\"visible\":true,\"x\":[38.095238095238095,54.54545454545454,42.857142857142854,50.0,62.5],\"y\":[\"Italy\",\"Italy\",\"Italy\",\"Italy\",\"Italy\"],\"type\":\"scatter\"},{\"legendgroup\":\"Italy\",\"line\":{\"color\":\"rgb(255,255,51)\"},\"mode\":\"lines+markers\",\"name\":\"Italy\",\"visible\":false,\"x\":[66.66666666666666,36.36363636363637,35.714285714285715,40.0,62.5],\"y\":[\"Italy\",\"Italy\",\"Italy\",\"Italy\",\"Italy\"],\"type\":\"scatter\"},{\"legendgroup\":\"Italy\",\"line\":{\"color\":\"rgb(255,255,51)\"},\"mode\":\"lines+markers\",\"name\":\"Italy\",\"visible\":false,\"x\":[71.42857142857143,72.72727272727273,50.0,70.0,75.0],\"y\":[\"Italy\",\"Italy\",\"Italy\",\"Italy\",\"Italy\"],\"type\":\"scatter\"},{\"legendgroup\":\"Italy\",\"line\":{\"color\":\"rgb(255,255,51)\"},\"mode\":\"lines+markers\",\"name\":\"Italy\",\"visible\":false,\"x\":[42.857142857142854,45.45454545454545,64.28571428571429,20.0,75.0],\"y\":[\"Italy\",\"Italy\",\"Italy\",\"Italy\",\"Italy\"],\"type\":\"scatter\"},{\"legendgroup\":\"Lithuania\",\"line\":{\"color\":\"rgb(166,86,40)\"},\"mode\":\"lines+markers\",\"name\":\"Lithuania\",\"visible\":true,\"x\":[5.555555555555555,46.875],\"y\":[\"Lithuania\",\"Lithuania\"],\"type\":\"scatter\"},{\"legendgroup\":\"Lithuania\",\"line\":{\"color\":\"rgb(166,86,40)\"},\"mode\":\"lines+markers\",\"name\":\"Lithuania\",\"visible\":false,\"x\":[27.77777777777778,34.375],\"y\":[\"Lithuania\",\"Lithuania\"],\"type\":\"scatter\"},{\"legendgroup\":\"Lithuania\",\"line\":{\"color\":\"rgb(166,86,40)\"},\"mode\":\"lines+markers\",\"name\":\"Lithuania\",\"visible\":false,\"x\":[66.66666666666666,68.75],\"y\":[\"Lithuania\",\"Lithuania\"],\"type\":\"scatter\"},{\"legendgroup\":\"Lithuania\",\"line\":{\"color\":\"rgb(166,86,40)\"},\"mode\":\"lines+markers\",\"name\":\"Lithuania\",\"visible\":false,\"x\":[38.88888888888889,37.5],\"y\":[\"Lithuania\",\"Lithuania\"],\"type\":\"scatter\"},{\"legendgroup\":\"Luxembourg\",\"line\":{\"color\":\"rgb(247,129,191)\"},\"mode\":\"lines+markers\",\"name\":\"Luxembourg\",\"visible\":true,\"x\":[80.95238095238095],\"y\":[\"Luxembourg\"],\"type\":\"scatter\"},{\"legendgroup\":\"Luxembourg\",\"line\":{\"color\":\"rgb(247,129,191)\"},\"mode\":\"lines+markers\",\"name\":\"Luxembourg\",\"visible\":false,\"x\":[72.61904761904762],\"y\":[\"Luxembourg\"],\"type\":\"scatter\"},{\"legendgroup\":\"Luxembourg\",\"line\":{\"color\":\"rgb(247,129,191)\"},\"mode\":\"lines+markers\",\"name\":\"Luxembourg\",\"visible\":false,\"x\":[90.47619047619048],\"y\":[\"Luxembourg\"],\"type\":\"scatter\"},{\"legendgroup\":\"Luxembourg\",\"line\":{\"color\":\"rgb(247,129,191)\"},\"mode\":\"lines+markers\",\"name\":\"Luxembourg\",\"visible\":false,\"x\":[78.57142857142857],\"y\":[\"Luxembourg\"],\"type\":\"scatter\"},{\"legendgroup\":\"Malta\",\"line\":{\"color\":\"rgb(153,153,153)\"},\"mode\":\"lines+markers\",\"name\":\"Malta\",\"visible\":true,\"x\":[54.90196078431373],\"y\":[\"Malta\"],\"type\":\"scatter\"},{\"legendgroup\":\"Malta\",\"line\":{\"color\":\"rgb(153,153,153)\"},\"mode\":\"lines+markers\",\"name\":\"Malta\",\"visible\":false,\"x\":[50.98039215686274],\"y\":[\"Malta\"],\"type\":\"scatter\"},{\"legendgroup\":\"Malta\",\"line\":{\"color\":\"rgb(153,153,153)\"},\"mode\":\"lines+markers\",\"name\":\"Malta\",\"visible\":false,\"x\":[66.66666666666666],\"y\":[\"Malta\"],\"type\":\"scatter\"},{\"legendgroup\":\"Malta\",\"line\":{\"color\":\"rgb(153,153,153)\"},\"mode\":\"lines+markers\",\"name\":\"Malta\",\"visible\":false,\"x\":[47.05882352941176],\"y\":[\"Malta\"],\"type\":\"scatter\"},{\"legendgroup\":\"Netherlands\",\"line\":{\"color\":\"rgb(228,26,28)\"},\"mode\":\"lines+markers\",\"name\":\"Netherlands\",\"visible\":true,\"x\":[63.63636363636363,67.56756756756756,61.53846153846154,83.33333333333334],\"y\":[\"Netherlands\",\"Netherlands\",\"Netherlands\",\"Netherlands\"],\"type\":\"scatter\"},{\"legendgroup\":\"Netherlands\",\"line\":{\"color\":\"rgb(228,26,28)\"},\"mode\":\"lines+markers\",\"name\":\"Netherlands\",\"visible\":false,\"x\":[63.63636363636363,59.45945945945946,84.61538461538461,50.0],\"y\":[\"Netherlands\",\"Netherlands\",\"Netherlands\",\"Netherlands\"],\"type\":\"scatter\"},{\"legendgroup\":\"Netherlands\",\"line\":{\"color\":\"rgb(228,26,28)\"},\"mode\":\"lines+markers\",\"name\":\"Netherlands\",\"visible\":false,\"x\":[77.27272727272727,83.78378378378379,76.92307692307693,100.0],\"y\":[\"Netherlands\",\"Netherlands\",\"Netherlands\",\"Netherlands\"],\"type\":\"scatter\"},{\"legendgroup\":\"Netherlands\",\"line\":{\"color\":\"rgb(228,26,28)\"},\"mode\":\"lines+markers\",\"name\":\"Netherlands\",\"visible\":false,\"x\":[63.63636363636363,81.08108108108108,61.53846153846154,66.66666666666666],\"y\":[\"Netherlands\",\"Netherlands\",\"Netherlands\",\"Netherlands\"],\"type\":\"scatter\"},{\"legendgroup\":\"Portugal\",\"line\":{\"color\":\"rgb(55,126,184)\"},\"mode\":\"lines+markers\",\"name\":\"Portugal\",\"visible\":true,\"x\":[62.0],\"y\":[\"Portugal\"],\"type\":\"scatter\"},{\"legendgroup\":\"Portugal\",\"line\":{\"color\":\"rgb(55,126,184)\"},\"mode\":\"lines+markers\",\"name\":\"Portugal\",\"visible\":false,\"x\":[57.99999999999999],\"y\":[\"Portugal\"],\"type\":\"scatter\"},{\"legendgroup\":\"Portugal\",\"line\":{\"color\":\"rgb(55,126,184)\"},\"mode\":\"lines+markers\",\"name\":\"Portugal\",\"visible\":false,\"x\":[74.0],\"y\":[\"Portugal\"],\"type\":\"scatter\"},{\"legendgroup\":\"Portugal\",\"line\":{\"color\":\"rgb(55,126,184)\"},\"mode\":\"lines+markers\",\"name\":\"Portugal\",\"visible\":false,\"x\":[68.0],\"y\":[\"Portugal\"],\"type\":\"scatter\"},{\"legendgroup\":\"Sweden\",\"line\":{\"color\":\"rgb(77,175,74)\"},\"mode\":\"lines+markers\",\"name\":\"Sweden\",\"visible\":true,\"x\":[38.88888888888889,50.0,50.0],\"y\":[\"Sweden\",\"Sweden\",\"Sweden\"],\"type\":\"scatter\"},{\"legendgroup\":\"Sweden\",\"line\":{\"color\":\"rgb(77,175,74)\"},\"mode\":\"lines+markers\",\"name\":\"Sweden\",\"visible\":false,\"x\":[33.33333333333333,45.83333333333333,62.5],\"y\":[\"Sweden\",\"Sweden\",\"Sweden\"],\"type\":\"scatter\"},{\"legendgroup\":\"Sweden\",\"line\":{\"color\":\"rgb(77,175,74)\"},\"mode\":\"lines+markers\",\"name\":\"Sweden\",\"visible\":false,\"x\":[61.111111111111114,58.333333333333336,75.0],\"y\":[\"Sweden\",\"Sweden\",\"Sweden\"],\"type\":\"scatter\"},{\"legendgroup\":\"Sweden\",\"line\":{\"color\":\"rgb(77,175,74)\"},\"mode\":\"lines+markers\",\"name\":\"Sweden\",\"visible\":false,\"x\":[44.44444444444444,62.5,62.5],\"y\":[\"Sweden\",\"Sweden\",\"Sweden\"],\"type\":\"scatter\"},{\"legendgroup\":\"Slovenia\",\"line\":{\"color\":\"rgb(152,78,163)\"},\"mode\":\"lines+markers\",\"name\":\"Slovenia\",\"visible\":true,\"x\":[48.38709677419355,31.818181818181817],\"y\":[\"Slovenia\",\"Slovenia\"],\"type\":\"scatter\"},{\"legendgroup\":\"Slovenia\",\"line\":{\"color\":\"rgb(152,78,163)\"},\"mode\":\"lines+markers\",\"name\":\"Slovenia\",\"visible\":false,\"x\":[32.25806451612903,18.181818181818183],\"y\":[\"Slovenia\",\"Slovenia\"],\"type\":\"scatter\"},{\"legendgroup\":\"Slovenia\",\"line\":{\"color\":\"rgb(152,78,163)\"},\"mode\":\"lines+markers\",\"name\":\"Slovenia\",\"visible\":false,\"x\":[51.61290322580645,54.54545454545454],\"y\":[\"Slovenia\",\"Slovenia\"],\"type\":\"scatter\"},{\"legendgroup\":\"Slovenia\",\"line\":{\"color\":\"rgb(152,78,163)\"},\"mode\":\"lines+markers\",\"name\":\"Slovenia\",\"visible\":false,\"x\":[29.03225806451613,36.36363636363637],\"y\":[\"Slovenia\",\"Slovenia\"],\"type\":\"scatter\"},{\"legendgroup\":\"Slovakia\",\"line\":{\"color\":\"rgb(255,127,0)\"},\"mode\":\"lines+markers\",\"name\":\"Slovakia\",\"visible\":true,\"x\":[53.333333333333336,55.55555555555556,48.484848484848484,71.42857142857143],\"y\":[\"Slovakia\",\"Slovakia\",\"Slovakia\",\"Slovakia\"],\"type\":\"scatter\"},{\"legendgroup\":\"Slovakia\",\"line\":{\"color\":\"rgb(255,127,0)\"},\"mode\":\"lines+markers\",\"name\":\"Slovakia\",\"visible\":false,\"x\":[73.33333333333333,37.03703703703704,51.515151515151516,61.904761904761905],\"y\":[\"Slovakia\",\"Slovakia\",\"Slovakia\",\"Slovakia\"],\"type\":\"scatter\"},{\"legendgroup\":\"Slovakia\",\"line\":{\"color\":\"rgb(255,127,0)\"},\"mode\":\"lines+markers\",\"name\":\"Slovakia\",\"visible\":false,\"x\":[46.666666666666664,44.44444444444444,57.57575757575758,61.904761904761905],\"y\":[\"Slovakia\",\"Slovakia\",\"Slovakia\",\"Slovakia\"],\"type\":\"scatter\"},{\"legendgroup\":\"Slovakia\",\"line\":{\"color\":\"rgb(255,127,0)\"},\"mode\":\"lines+markers\",\"name\":\"Slovakia\",\"visible\":false,\"x\":[53.333333333333336,51.85185185185185,45.45454545454545,76.19047619047619],\"y\":[\"Slovakia\",\"Slovakia\",\"Slovakia\",\"Slovakia\"],\"type\":\"scatter\"}],                        {\"template\":{\"data\":{\"histogram2dcontour\":[{\"type\":\"histogram2dcontour\",\"colorbar\":{\"outlinewidth\":0,\"ticks\":\"\"},\"colorscale\":[[0.0,\"#0d0887\"],[0.1111111111111111,\"#46039f\"],[0.2222222222222222,\"#7201a8\"],[0.3333333333333333,\"#9c179e\"],[0.4444444444444444,\"#bd3786\"],[0.5555555555555556,\"#d8576b\"],[0.6666666666666666,\"#ed7953\"],[0.7777777777777778,\"#fb9f3a\"],[0.8888888888888888,\"#fdca26\"],[1.0,\"#f0f921\"]]}],\"choropleth\":[{\"type\":\"choropleth\",\"colorbar\":{\"outlinewidth\":0,\"ticks\":\"\"}}],\"histogram2d\":[{\"type\":\"histogram2d\",\"colorbar\":{\"outlinewidth\":0,\"ticks\":\"\"},\"colorscale\":[[0.0,\"#0d0887\"],[0.1111111111111111,\"#46039f\"],[0.2222222222222222,\"#7201a8\"],[0.3333333333333333,\"#9c179e\"],[0.4444444444444444,\"#bd3786\"],[0.5555555555555556,\"#d8576b\"],[0.6666666666666666,\"#ed7953\"],[0.7777777777777778,\"#fb9f3a\"],[0.8888888888888888,\"#fdca26\"],[1.0,\"#f0f921\"]]}],\"heatmap\":[{\"type\":\"heatmap\",\"colorbar\":{\"outlinewidth\":0,\"ticks\":\"\"},\"colorscale\":[[0.0,\"#0d0887\"],[0.1111111111111111,\"#46039f\"],[0.2222222222222222,\"#7201a8\"],[0.3333333333333333,\"#9c179e\"],[0.4444444444444444,\"#bd3786\"],[0.5555555555555556,\"#d8576b\"],[0.6666666666666666,\"#ed7953\"],[0.7777777777777778,\"#fb9f3a\"],[0.8888888888888888,\"#fdca26\"],[1.0,\"#f0f921\"]]}],\"heatmapgl\":[{\"type\":\"heatmapgl\",\"colorbar\":{\"outlinewidth\":0,\"ticks\":\"\"},\"colorscale\":[[0.0,\"#0d0887\"],[0.1111111111111111,\"#46039f\"],[0.2222222222222222,\"#7201a8\"],[0.3333333333333333,\"#9c179e\"],[0.4444444444444444,\"#bd3786\"],[0.5555555555555556,\"#d8576b\"],[0.6666666666666666,\"#ed7953\"],[0.7777777777777778,\"#fb9f3a\"],[0.8888888888888888,\"#fdca26\"],[1.0,\"#f0f921\"]]}],\"contourcarpet\":[{\"type\":\"contourcarpet\",\"colorbar\":{\"outlinewidth\":0,\"ticks\":\"\"}}],\"contour\":[{\"type\":\"contour\",\"colorbar\":{\"outlinewidth\":0,\"ticks\":\"\"},\"colorscale\":[[0.0,\"#0d0887\"],[0.1111111111111111,\"#46039f\"],[0.2222222222222222,\"#7201a8\"],[0.3333333333333333,\"#9c179e\"],[0.4444444444444444,\"#bd3786\"],[0.5555555555555556,\"#d8576b\"],[0.6666666666666666,\"#ed7953\"],[0.7777777777777778,\"#fb9f3a\"],[0.8888888888888888,\"#fdca26\"],[1.0,\"#f0f921\"]]}],\"surface\":[{\"type\":\"surface\",\"colorbar\":{\"outlinewidth\":0,\"ticks\":\"\"},\"colorscale\":[[0.0,\"#0d0887\"],[0.1111111111111111,\"#46039f\"],[0.2222222222222222,\"#7201a8\"],[0.3333333333333333,\"#9c179e\"],[0.4444444444444444,\"#bd3786\"],[0.5555555555555556,\"#d8576b\"],[0.6666666666666666,\"#ed7953\"],[0.7777777777777778,\"#fb9f3a\"],[0.8888888888888888,\"#fdca26\"],[1.0,\"#f0f921\"]]}],\"mesh3d\":[{\"type\":\"mesh3d\",\"colorbar\":{\"outlinewidth\":0,\"ticks\":\"\"}}],\"scatter\":[{\"fillpattern\":{\"fillmode\":\"overlay\",\"size\":10,\"solidity\":0.2},\"type\":\"scatter\"}],\"parcoords\":[{\"type\":\"parcoords\",\"line\":{\"colorbar\":{\"outlinewidth\":0,\"ticks\":\"\"}}}],\"scatterpolargl\":[{\"type\":\"scatterpolargl\",\"marker\":{\"colorbar\":{\"outlinewidth\":0,\"ticks\":\"\"}}}],\"bar\":[{\"error_x\":{\"color\":\"#2a3f5f\"},\"error_y\":{\"color\":\"#2a3f5f\"},\"marker\":{\"line\":{\"color\":\"#E5ECF6\",\"width\":0.5},\"pattern\":{\"fillmode\":\"overlay\",\"size\":10,\"solidity\":0.2}},\"type\":\"bar\"}],\"scattergeo\":[{\"type\":\"scattergeo\",\"marker\":{\"colorbar\":{\"outlinewidth\":0,\"ticks\":\"\"}}}],\"scatterpolar\":[{\"type\":\"scatterpolar\",\"marker\":{\"colorbar\":{\"outlinewidth\":0,\"ticks\":\"\"}}}],\"histogram\":[{\"marker\":{\"pattern\":{\"fillmode\":\"overlay\",\"size\":10,\"solidity\":0.2}},\"type\":\"histogram\"}],\"scattergl\":[{\"type\":\"scattergl\",\"marker\":{\"colorbar\":{\"outlinewidth\":0,\"ticks\":\"\"}}}],\"scatter3d\":[{\"type\":\"scatter3d\",\"line\":{\"colorbar\":{\"outlinewidth\":0,\"ticks\":\"\"}},\"marker\":{\"colorbar\":{\"outlinewidth\":0,\"ticks\":\"\"}}}],\"scattermapbox\":[{\"type\":\"scattermapbox\",\"marker\":{\"colorbar\":{\"outlinewidth\":0,\"ticks\":\"\"}}}],\"scatterternary\":[{\"type\":\"scatterternary\",\"marker\":{\"colorbar\":{\"outlinewidth\":0,\"ticks\":\"\"}}}],\"scattercarpet\":[{\"type\":\"scattercarpet\",\"marker\":{\"colorbar\":{\"outlinewidth\":0,\"ticks\":\"\"}}}],\"carpet\":[{\"aaxis\":{\"endlinecolor\":\"#2a3f5f\",\"gridcolor\":\"white\",\"linecolor\":\"white\",\"minorgridcolor\":\"white\",\"startlinecolor\":\"#2a3f5f\"},\"baxis\":{\"endlinecolor\":\"#2a3f5f\",\"gridcolor\":\"white\",\"linecolor\":\"white\",\"minorgridcolor\":\"white\",\"startlinecolor\":\"#2a3f5f\"},\"type\":\"carpet\"}],\"table\":[{\"cells\":{\"fill\":{\"color\":\"#EBF0F8\"},\"line\":{\"color\":\"white\"}},\"header\":{\"fill\":{\"color\":\"#C8D4E3\"},\"line\":{\"color\":\"white\"}},\"type\":\"table\"}],\"barpolar\":[{\"marker\":{\"line\":{\"color\":\"#E5ECF6\",\"width\":0.5},\"pattern\":{\"fillmode\":\"overlay\",\"size\":10,\"solidity\":0.2}},\"type\":\"barpolar\"}],\"pie\":[{\"automargin\":true,\"type\":\"pie\"}]},\"layout\":{\"autotypenumbers\":\"strict\",\"colorway\":[\"#636efa\",\"#EF553B\",\"#00cc96\",\"#ab63fa\",\"#FFA15A\",\"#19d3f3\",\"#FF6692\",\"#B6E880\",\"#FF97FF\",\"#FECB52\"],\"font\":{\"color\":\"#2a3f5f\"},\"hovermode\":\"closest\",\"hoverlabel\":{\"align\":\"left\"},\"paper_bgcolor\":\"white\",\"plot_bgcolor\":\"#E5ECF6\",\"polar\":{\"bgcolor\":\"#E5ECF6\",\"angularaxis\":{\"gridcolor\":\"white\",\"linecolor\":\"white\",\"ticks\":\"\"},\"radialaxis\":{\"gridcolor\":\"white\",\"linecolor\":\"white\",\"ticks\":\"\"}},\"ternary\":{\"bgcolor\":\"#E5ECF6\",\"aaxis\":{\"gridcolor\":\"white\",\"linecolor\":\"white\",\"ticks\":\"\"},\"baxis\":{\"gridcolor\":\"white\",\"linecolor\":\"white\",\"ticks\":\"\"},\"caxis\":{\"gridcolor\":\"white\",\"linecolor\":\"white\",\"ticks\":\"\"}},\"coloraxis\":{\"colorbar\":{\"outlinewidth\":0,\"ticks\":\"\"}},\"colorscale\":{\"sequential\":[[0.0,\"#0d0887\"],[0.1111111111111111,\"#46039f\"],[0.2222222222222222,\"#7201a8\"],[0.3333333333333333,\"#9c179e\"],[0.4444444444444444,\"#bd3786\"],[0.5555555555555556,\"#d8576b\"],[0.6666666666666666,\"#ed7953\"],[0.7777777777777778,\"#fb9f3a\"],[0.8888888888888888,\"#fdca26\"],[1.0,\"#f0f921\"]],\"sequentialminus\":[[0.0,\"#0d0887\"],[0.1111111111111111,\"#46039f\"],[0.2222222222222222,\"#7201a8\"],[0.3333333333333333,\"#9c179e\"],[0.4444444444444444,\"#bd3786\"],[0.5555555555555556,\"#d8576b\"],[0.6666666666666666,\"#ed7953\"],[0.7777777777777778,\"#fb9f3a\"],[0.8888888888888888,\"#fdca26\"],[1.0,\"#f0f921\"]],\"diverging\":[[0,\"#8e0152\"],[0.1,\"#c51b7d\"],[0.2,\"#de77ae\"],[0.3,\"#f1b6da\"],[0.4,\"#fde0ef\"],[0.5,\"#f7f7f7\"],[0.6,\"#e6f5d0\"],[0.7,\"#b8e186\"],[0.8,\"#7fbc41\"],[0.9,\"#4d9221\"],[1,\"#276419\"]]},\"xaxis\":{\"gridcolor\":\"white\",\"linecolor\":\"white\",\"ticks\":\"\",\"title\":{\"standoff\":15},\"zerolinecolor\":\"white\",\"automargin\":true,\"zerolinewidth\":2},\"yaxis\":{\"gridcolor\":\"white\",\"linecolor\":\"white\",\"ticks\":\"\",\"title\":{\"standoff\":15},\"zerolinecolor\":\"white\",\"automargin\":true,\"zerolinewidth\":2},\"scene\":{\"xaxis\":{\"backgroundcolor\":\"#E5ECF6\",\"gridcolor\":\"white\",\"linecolor\":\"white\",\"showbackground\":true,\"ticks\":\"\",\"zerolinecolor\":\"white\",\"gridwidth\":2},\"yaxis\":{\"backgroundcolor\":\"#E5ECF6\",\"gridcolor\":\"white\",\"linecolor\":\"white\",\"showbackground\":true,\"ticks\":\"\",\"zerolinecolor\":\"white\",\"gridwidth\":2},\"zaxis\":{\"backgroundcolor\":\"#E5ECF6\",\"gridcolor\":\"white\",\"linecolor\":\"white\",\"showbackground\":true,\"ticks\":\"\",\"zerolinecolor\":\"white\",\"gridwidth\":2}},\"shapedefaults\":{\"line\":{\"color\":\"#2a3f5f\"}},\"annotationdefaults\":{\"arrowcolor\":\"#2a3f5f\",\"arrowhead\":0,\"arrowwidth\":1},\"geo\":{\"bgcolor\":\"white\",\"landcolor\":\"#E5ECF6\",\"subunitcolor\":\"white\",\"showland\":true,\"showlakes\":true,\"lakecolor\":\"white\"},\"title\":{\"x\":0.05},\"mapbox\":{\"style\":\"light\"}}},\"margin\":{\"l\":20,\"r\":0,\"t\":50,\"b\":100},\"legend\":{\"title\":{\"text\":\"Country\"},\"traceorder\":\"normal\",\"bgcolor\":\"rgba(255,255,255,0.5)\",\"x\":1,\"xanchor\":\"left\",\"y\":1,\"yanchor\":\"top\"},\"updatemenus\":[{\"buttons\":[{\"args\":[{\"visible\":[true,false,false,false,true,false,false,false,true,false,false,false,true,false,false,false,true,false,false,false,true,false,false,false,true,false,false,false,true,false,false,false,true,false,false,false,true,false,false,false,true,false,false,false,true,false,false,false,true,false,false,false,true,false,false,false,true,false,false,false,true,false,false,false,true,false,false,false,true,false,false,false,true,false,false,false,true,false,false,false,true,false,false,false,true,false,false,false,true,false,false,false,true,false,false,false,true,false,false,false,true,false,false,false,true,false,false,false,true,false,false,false,true,false,false,false,true,false,false,false,true,false,false,false,true,false,false,false,true,false,false,false,true,false,false,false,true,false,false,false,true,false,false,false,true,false,false,false,true,false,false,false,true,false,false,false,true,false,false,false,true,false,false,false,true,false,false,false,true,false,false,false,true,false,false,false,true,false,false,false,true,false,false,false,true,false,false,false,true,false,false,false,true,false,false,false,true,false,false,false,true,false,false,false,true,false,false,false,true,false,false,false,true,false,false,false,true,false,false,false,true,false,false,false,true,false,false,false,true,false,false,false,true,false,false,false,true,false,false,false,true,false,false,false,true,false,false,false,true,false,false,false,true,false,false,false,true,false,false,false,true,false,false,false,true,false,false,false,true,false,false,false,true,false,false,false,true,false,false,false,true,false,false,false,true,false,false,false,true,false,false,false,true,false,false,false,true,false,false,false,true,false,false,false,true,false,false,false,true,false,false,false,true,false,false,false,true,false,false,false,true,false,false,false,true,false,false,false,true,false,false,false,true,false,false,false,true,false,false,false,true,false,false,false,true,false,false,false,true,false,false,false,true,false,false,false,true,false,false,false,true,false,false,false,true,false,false,false,true,false,false,false,true,false,false,false]},{\"title\":\"Dumbbell Chart for TRT_judges\"}],\"label\":\"TRT_judges\",\"method\":\"update\"},{\"args\":[{\"visible\":[false,true,false,false,false,true,false,false,false,true,false,false,false,true,false,false,false,true,false,false,false,true,false,false,false,true,false,false,false,true,false,false,false,true,false,false,false,true,false,false,false,true,false,false,false,true,false,false,false,true,false,false,false,true,false,false,false,true,false,false,false,true,false,false,false,true,false,false,false,true,false,false,false,true,false,false,false,true,false,false,false,true,false,false,false,true,false,false,false,true,false,false,false,true,false,false,false,true,false,false,false,true,false,false,false,true,false,false,false,true,false,false,false,true,false,false,false,true,false,false,false,true,false,false,false,true,false,false,false,true,false,false,false,true,false,false,false,true,false,false,false,true,false,false,false,true,false,false,false,true,false,false,false,true,false,false,false,true,false,false,false,true,false,false,false,true,false,false,false,true,false,false,false,true,false,false,false,true,false,false,false,true,false,false,false,true,false,false,false,true,false,false,false,true,false,false,false,true,false,false,false,true,false,false,false,true,false,false,false,true,false,false,false,true,false,false,false,true,false,false,false,true,false,false,false,true,false,false,false,true,false,false,false,true,false,false,false,true,false,false,false,true,false,false,false,true,false,false,false,true,false,false,false,true,false,false,false,true,false,false,false,true,false,false,false,true,false,false,false,true,false,false,false,true,false,false,false,true,false,false,false,true,false,false,false,true,false,false,false,true,false,false,false,true,false,false,false,true,false,false,false,true,false,false,false,true,false,false,false,true,false,false,false,true,false,false,false,true,false,false,false,true,false,false,false,true,false,false,false,true,false,false,false,true,false,false,false,true,false,false,false,true,false,false,false,true,false,false,false,true,false,false,false,true,false,false,false,true,false,false,false,true,false,false,false,true,false,false,false,true,false,false,false,true,false,false]},{\"title\":\"Dumbbell Chart for TRT_pda\"}],\"label\":\"TRT_pda\",\"method\":\"update\"},{\"args\":[{\"visible\":[false,false,true,false,false,false,true,false,false,false,true,false,false,false,true,false,false,false,true,false,false,false,true,false,false,false,true,false,false,false,true,false,false,false,true,false,false,false,true,false,false,false,true,false,false,false,true,false,false,false,true,false,false,false,true,false,false,false,true,false,false,false,true,false,false,false,true,false,false,false,true,false,false,false,true,false,false,false,true,false,false,false,true,false,false,false,true,false,false,false,true,false,false,false,true,false,false,false,true,false,false,false,true,false,false,false,true,false,false,false,true,false,false,false,true,false,false,false,true,false,false,false,true,false,false,false,true,false,false,false,true,false,false,false,true,false,false,false,true,false,false,false,true,false,false,false,true,false,false,false,true,false,false,false,true,false,false,false,true,false,false,false,true,false,false,false,true,false,false,false,true,false,false,false,true,false,false,false,true,false,false,false,true,false,false,false,true,false,false,false,true,false,false,false,true,false,false,false,true,false,false,false,true,false,false,false,true,false,false,false,true,false,false,false,true,false,false,false,true,false,false,false,true,false,false,false,true,false,false,false,true,false,false,false,true,false,false,false,true,false,false,false,true,false,false,false,true,false,false,false,true,false,false,false,true,false,false,false,true,false,false,false,true,false,false,false,true,false,false,false,true,false,false,false,true,false,false,false,true,false,false,false,true,false,false,false,true,false,false,false,true,false,false,false,true,false,false,false,true,false,false,false,true,false,false,false,true,false,false,false,true,false,false,false,true,false,false,false,true,false,false,false,true,false,false,false,true,false,false,false,true,false,false,false,true,false,false,false,true,false,false,false,true,false,false,false,true,false,false,false,true,false,false,false,true,false,false,false,true,false,false,false,true,false,false,false,true,false,false,false,true,false,false,false,true,false]},{\"title\":\"Dumbbell Chart for TRT_police\"}],\"label\":\"TRT_police\",\"method\":\"update\"},{\"args\":[{\"visible\":[false,false,false,true,false,false,false,true,false,false,false,true,false,false,false,true,false,false,false,true,false,false,false,true,false,false,false,true,false,false,false,true,false,false,false,true,false,false,false,true,false,false,false,true,false,false,false,true,false,false,false,true,false,false,false,true,false,false,false,true,false,false,false,true,false,false,false,true,false,false,false,true,false,false,false,true,false,false,false,true,false,false,false,true,false,false,false,true,false,false,false,true,false,false,false,true,false,false,false,true,false,false,false,true,false,false,false,true,false,false,false,true,false,false,false,true,false,false,false,true,false,false,false,true,false,false,false,true,false,false,false,true,false,false,false,true,false,false,false,true,false,false,false,true,false,false,false,true,false,false,false,true,false,false,false,true,false,false,false,true,false,false,false,true,false,false,false,true,false,false,false,true,false,false,false,true,false,false,false,true,false,false,false,true,false,false,false,true,false,false,false,true,false,false,false,true,false,false,false,true,false,false,false,true,false,false,false,true,false,false,false,true,false,false,false,true,false,false,false,true,false,false,false,true,false,false,false,true,false,false,false,true,false,false,false,true,false,false,false,true,false,false,false,true,false,false,false,true,false,false,false,true,false,false,false,true,false,false,false,true,false,false,false,true,false,false,false,true,false,false,false,true,false,false,false,true,false,false,false,true,false,false,false,true,false,false,false,true,false,false,false,true,false,false,false,true,false,false,false,true,false,false,false,true,false,false,false,true,false,false,false,true,false,false,false,true,false,false,false,true,false,false,false,true,false,false,false,true,false,false,false,true,false,false,false,true,false,false,false,true,false,false,false,true,false,false,false,true,false,false,false,true,false,false,false,true,false,false,false,true,false,false,false,true,false,false,false,true,false,false,false,true,false,false,false,true]},{\"title\":\"Dumbbell Chart for TRT_prosecutors\"}],\"label\":\"TRT_prosecutors\",\"method\":\"update\"}],\"direction\":\"down\",\"showactive\":true,\"x\":1.25,\"xanchor\":\"left\",\"y\":1,\"yanchor\":\"top\"}],\"title\":{\"text\":\"Dumbbell Chart for Trust\"},\"xaxis\":{\"title\":{\"text\":\"Percentage\"}},\"yaxis\":{\"title\":{\"text\":\"Country\"}}},                        {\"responsive\": true}                    ).then(function(){\n",
       "                            \n",
       "var gd = document.getElementById('fe7e1894-efcd-4865-aad7-f29a51318aad');\n",
       "var x = new MutationObserver(function (mutations, observer) {{\n",
       "        var display = window.getComputedStyle(gd).display;\n",
       "        if (!display || display === 'none') {{\n",
       "            console.log([gd, 'removed!']);\n",
       "            Plotly.purge(gd);\n",
       "            observer.disconnect();\n",
       "        }}\n",
       "}});\n",
       "\n",
       "// Listen for the removal of the full notebook cells\n",
       "var notebookContainer = gd.closest('#notebook-container');\n",
       "if (notebookContainer) {{\n",
       "    x.observe(notebookContainer, {childList: true});\n",
       "}}\n",
       "\n",
       "// Listen for the clearing of the current output cell\n",
       "var outputEl = gd.closest('.output');\n",
       "if (outputEl) {{\n",
       "    x.observe(outputEl, {childList: true});\n",
       "}}\n",
       "\n",
       "                        })                };                });            </script>        </div>"
      ]
     },
     "metadata": {},
     "output_type": "display_data"
    }
   ],
   "source": [
    "import plotly.graph_objects as go\n",
    "\n",
    "\n",
    "fig = go.Figure()\n",
    "\n",
    "\n",
    "countries = data4map['country_name_ltn'].unique()\n",
    "variables = data4map['Variable'].unique()\n",
    "\n",
    "color_sequence = px.colors.qualitative.Set1  \n",
    "\n",
    "country_colors = {country: color_sequence[i % len(color_sequence)] for i, country in enumerate(countries)}\n",
    "\n",
    "for country in countries:\n",
    "    for variable in variables:\n",
    "        \n",
    "        filtered_data = data4map[(data4map['country_name_ltn'] == country) & \n",
    "                                 (data4map['Variable'] == variable)]\n",
    "        fig.add_trace(go.Scatter(\n",
    "            x=filtered_data['Percentage'],\n",
    "            y=[country] * len(filtered_data),  \n",
    "            mode='lines+markers',\n",
    "            name=country,\n",
    "            legendgroup=country,  \n",
    "            visible=(variable == variables[0]),  \n",
    "            line=dict(color=country_colors[country]),\n",
    "            \n",
    "        ))\n",
    "\n",
    "\n",
    "buttons = []\n",
    "for variable in variables:\n",
    "\n",
    "    visibility = [(data4map['Variable'] == variable).values.tolist()]\n",
    "\n",
    "    visibility = [item for sublist in visibility for item in sublist]\n",
    "\n",
    "    buttons.append(\n",
    "        dict(\n",
    "            label=variable,\n",
    "            method='update',\n",
    "            args=[{'visible': visibility},\n",
    "                  {'title': f'Dumbbell Chart for {variable}'}]\n",
    "        )\n",
    "    )\n",
    "\n",
    "\n",
    "fig.update_layout(\n",
    "    margin=dict(l=20, r=0, t=50, b=100),  \n",
    "    legend=dict(\n",
    "        title='Country',\n",
    "        traceorder='normal',\n",
    "        bgcolor='rgba(255,255,255,0.5)',\n",
    "        x=1,  \n",
    "        xanchor='left',\n",
    "        y=1,\n",
    "        yanchor='top'\n",
    "    ),\n",
    "    \n",
    "    updatemenus=[{\n",
    "        'buttons': buttons,\n",
    "        'direction': 'down',\n",
    "        'showactive': True,\n",
    "        'x': 1.25,  \n",
    "        'xanchor': 'left',\n",
    "        'y': 1,\n",
    "        'yanchor': 'top'\n",
    "    }],\n",
    "    title=f'Dumbbell Chart for Trust',\n",
    "    xaxis=dict(title='Percentage'),\n",
    "    yaxis=dict(title='Country'),\n",
    ")\n",
    "\n",
    "\n",
    "\n",
    "fig.show()\n",
    "\n",
    "fig.write_html('C:/Users/apillai/OneDrive - World Justice Project/Documents/GitHub/EU-NUTS-GIS/Data/Dumbbell.html')"
   ]
  },
  {
   "cell_type": "code",
   "execution_count": null,
   "id": "3f1f416c",
   "metadata": {},
   "outputs": [],
   "source": []
  }
 ],
 "metadata": {
  "kernelspec": {
   "display_name": "Python 3 (ipykernel)",
   "language": "python",
   "name": "python3"
  },
  "language_info": {
   "codemirror_mode": {
    "name": "ipython",
    "version": 3
   },
   "file_extension": ".py",
   "mimetype": "text/x-python",
   "name": "python",
   "nbconvert_exporter": "python",
   "pygments_lexer": "ipython3",
   "version": "3.11.5"
  }
 },
 "nbformat": 4,
 "nbformat_minor": 5
}
